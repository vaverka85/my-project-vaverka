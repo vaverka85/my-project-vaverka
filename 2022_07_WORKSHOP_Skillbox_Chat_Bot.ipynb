{
  "nbformat": 4,
  "nbformat_minor": 0,
  "metadata": {
    "colab": {
      "name": "2022-07 WORKSHOP Skillbox Chat Bot",
      "provenance": [],
      "collapsed_sections": [],
      "include_colab_link": true
    },
    "kernelspec": {
      "name": "python3",
      "display_name": "Python 3"
    },
    "language_info": {
      "name": "python"
    }
  },
  "cells": [
    {
      "cell_type": "markdown",
      "metadata": {
        "id": "view-in-github",
        "colab_type": "text"
      },
      "source": [
        "<a href=\"https://colab.research.google.com/github/vaverka85/my-project-vaverka/blob/main/2022_07_WORKSHOP_Skillbox_Chat_Bot.ipynb\" target=\"_parent\"><img src=\"https://colab.research.google.com/assets/colab-badge.svg\" alt=\"Open In Colab\"/></a>"
      ]
    },
    {
      "cell_type": "markdown",
      "source": [
        "# Чем мы будем заниматься на интенсиве?"
      ],
      "metadata": {
        "id": "6dLgQDxbHpSU"
      }
    },
    {
      "cell_type": "markdown",
      "source": [
        "**День 1:** Знакомимся с Python и архитектурой умного чат-бота\n",
        "\n",
        "https://live.skillbox.ru/webinars/code/znakomimsya-s-python-i-arkhitekturoi-umnogo-chat-bota180722/\n",
        "*   Что такое NLU и как компьютер понимает естественную речь.\n",
        "*   Архитектура «умных» чат-ботов.\n",
        "*   Начало работы с Python.\n",
        "*   Типы и структуры данных Python. Циклы и функции.\n",
        "\n",
        "**День 2:** Учим бота на Python понимать текст \n",
        "\n",
        "https://live.skillbox.ru/webinars/code/uchim-bota-na-python-ponimat-tekst190722/\n",
        "*   Подготовка дата-сета.\n",
        "*   Алгоритмы сравнения текстов.\n",
        "*   Векторизация.\n",
        "*   Обучение машинной модели.\n",
        "*   Измерение качества классификатора и интеграция в чат-бота.\n",
        "\n",
        "**День 3:** Искусственный интеллект на Python: подводим итоги \n",
        "\n",
        "https://live.skillbox.ru/webinars/code/iskusstvennyi-intellekt-na-python-podvodim-itogi200722/\n",
        "*   Создание Telegram-бота через @BotFather.\n",
        "*   Запуск и подключение Python-приложения.\n",
        "\n",
        "\n",
        "\n",
        "<img src='https://drive.google.com/uc?export=view&id=1jh8IXsRZMwODB7Yk_ZH7pR1laJaQlaly' height=300>"
      ],
      "metadata": {
        "id": "JzOJzJn7IUbh"
      }
    },
    {
      "cell_type": "markdown",
      "source": [
        "# День 1"
      ],
      "metadata": {
        "id": "ppsIrKbyJDTJ"
      }
    },
    {
      "cell_type": "markdown",
      "source": [
        "## ВЕРСИЯ 1: Простейший Чат-бот\n",
        "`{Вопрос на входе}` => `{Алгоритм ответа}` => `{Ответ на выходе}`\n",
        "\n",
        "---\n",
        "Простейший алгоритм — это поиск по базе известных вопросов и ответов.\n"
      ],
      "metadata": {
        "id": "mW1tlQcAJRmA"
      }
    },
    {
      "cell_type": "code",
      "source": [
        "import random"
      ],
      "metadata": {
        "id": "jHwSOC-8InIo"
      },
      "execution_count": null,
      "outputs": []
    },
    {
      "cell_type": "code",
      "execution_count": null,
      "metadata": {
        "id": "ePQvZ6EHH75B"
      },
      "outputs": [],
      "source": [
        "# Словарь\n",
        "\n",
        "intents = {\n",
        "    'hello': {\n",
        "        'examples': ['Хелло', \"Привет\", \"Здравствуйте\"],\n",
        "        'responses': ['Добрый день!', \"Как дела?\", \"Как настроение?\"]\n",
        "    },\n",
        "    'weather': {\n",
        "        'examples': ['Какая погода?', 'Что за окном', \"Во что одеваться?\"],\n",
        "        'responses': ['Погода отличная!', \"У природы нет плохой погоды!\"],\n",
        "    }\n",
        "}\n",
        "\n",
        "# input = ввод данных от пользователя\n",
        "# random.choice = выбор случайного элемента из списка\n",
        "# print = вывод на экран"
      ]
    },
    {
      "cell_type": "code",
      "source": [
        "intents['hello']['examples']"
      ],
      "metadata": {
        "colab": {
          "base_uri": "https://localhost:8080/"
        },
        "id": "-JsGgQsFkTgq",
        "outputId": "38b8c5db-cea7-479f-8269-ced1ff36e091"
      },
      "execution_count": null,
      "outputs": [
        {
          "output_type": "execute_result",
          "data": {
            "text/plain": [
              "['Хелло', 'Привет', 'Здравствуйте']"
            ]
          },
          "metadata": {},
          "execution_count": 3
        }
      ]
    },
    {
      "cell_type": "code",
      "source": [
        "text = input()  # Нужно нажать Enter после ввода текста"
      ],
      "metadata": {
        "colab": {
          "base_uri": "https://localhost:8080/"
        },
        "id": "D3ClzaPPkvSz",
        "outputId": "10c1b9af-0ff4-4e89-a621-583d4637af3c"
      },
      "execution_count": null,
      "outputs": [
        {
          "name": "stdout",
          "output_type": "stream",
          "text": [
            "Привет\n"
          ]
        }
      ]
    },
    {
      "cell_type": "code",
      "source": [
        "print(text)"
      ],
      "metadata": {
        "colab": {
          "base_uri": "https://localhost:8080/"
        },
        "id": "rQvk9sZGlYk6",
        "outputId": "e446b6db-aed8-483b-d2c2-e635d82ede79"
      },
      "execution_count": null,
      "outputs": [
        {
          "output_type": "stream",
          "name": "stdout",
          "text": [
            "Привет\n"
          ]
        }
      ]
    },
    {
      "cell_type": "code",
      "source": [
        "text = input()\n",
        "\n",
        "if text == 'Какая погода?':\n",
        "    print('weather')"
      ],
      "metadata": {
        "colab": {
          "base_uri": "https://localhost:8080/"
        },
        "id": "f9FUGwEwldjI",
        "outputId": "33fe4d44-394a-44e2-aa7c-c1d81deb94d1"
      },
      "execution_count": null,
      "outputs": [
        {
          "output_type": "stream",
          "name": "stdout",
          "text": [
            "Какая погода?\n",
            "weather\n"
          ]
        }
      ]
    },
    {
      "cell_type": "code",
      "source": [
        "text = input()\n",
        "\n",
        "for intent_name in intents:\n",
        "    for example in intents[intent_name]['examples']:\n",
        "        if text == example:\n",
        "            answer = random.choice(intents[intent_name]['responses'])\n",
        "            print(answer)"
      ],
      "metadata": {
        "colab": {
          "base_uri": "https://localhost:8080/"
        },
        "id": "QKPOOZkvlrQG",
        "outputId": "7bbe2f95-402d-4b9a-9c01-099c05b8b257"
      },
      "execution_count": null,
      "outputs": [
        {
          "output_type": "stream",
          "name": "stdout",
          "text": [
            "Привет\n",
            "Как дела?\n"
          ]
        }
      ]
    },
    {
      "cell_type": "code",
      "source": [
        "text = input()\n",
        "\n",
        "for intent_name in intents:\n",
        "    for example in intents[intent_name]['examples']:\n",
        "        if text == example:\n",
        "            answer = random.choice(intents[intent_name]['responses'])\n",
        "            print(answer)"
      ],
      "metadata": {
        "colab": {
          "base_uri": "https://localhost:8080/"
        },
        "id": "zDLDniHtmsrJ",
        "outputId": "0b328d31-2f82-492d-e50e-cce1a3633b36"
      },
      "execution_count": null,
      "outputs": [
        {
          "name": "stdout",
          "output_type": "stream",
          "text": [
            "привет!\n"
          ]
        }
      ]
    },
    {
      "cell_type": "markdown",
      "source": [
        "### Алгоритм ответа\n",
        "1.   Если вопрос это что-то вроде \"*Привет*\" или \"*Хеллоу*\"\n",
        "2.   То ответить случайной фразой вроде \"**Йоу**\", \"**Приветики**\" или \"**Здрасте**\""
      ],
      "metadata": {
        "id": "tysEo2EaLV9V"
      }
    },
    {
      "cell_type": "markdown",
      "source": [
        "Сложность — в том чтобы сравнить **Текст Пользователя** и текст в программе."
      ],
      "metadata": {
        "id": "26m8fK1GN4m3"
      }
    },
    {
      "cell_type": "code",
      "source": [
        "import re\n",
        "import nltk"
      ],
      "metadata": {
        "id": "BBbDDXGUupSN"
      },
      "execution_count": null,
      "outputs": []
    },
    {
      "cell_type": "code",
      "source": [
        "def clean_up(text):\n",
        "    # преобразуем слово к нижнему регистру\n",
        "    text = text.lower()\n",
        "    # описываем текстовый шаблон для удаления: \"все, что НЕ (^) является буквой \\w или пробелом \\s\"\n",
        "    re_not_word = r'[^\\w\\s]'\n",
        "    # заменяем в исходном тексте то, что соответствует шаблону, на пустой текст (удаляем)\n",
        "    text = re.sub(re_not_word, '', text)\n",
        "    # возвращаем очищенный текст\n",
        "    \n",
        "    return text\n",
        "\n",
        "def text_match(user_text, example):\n",
        "    # допишем функцию так, чтобы все примеры ниже работали\n",
        "    user_text = clean_up(user_text)\n",
        "    example = clean_up(example)\n",
        "    # A.find(B) - возвращает номер буквы, с которой идет текст B внутри текста А\n",
        "    # find возвращает -1 в случае, если ничего не нашла\n",
        "\n",
        "    if user_text.find(example) != -1:\n",
        "        return True\n",
        "\n",
        "    if example.find(user_text) != -1:\n",
        "        return True\n",
        "\n",
        "    example_len = len(example)\n",
        "    difference = nltk.edit_distance(user_text, example)\n",
        "\n",
        "    return (difference / example_len) < 0.4"
      ],
      "metadata": {
        "id": "v68CYBmmMwwu"
      },
      "execution_count": null,
      "outputs": []
    },
    {
      "cell_type": "code",
      "source": [
        "# Тексты совпадают\n",
        "text_match(\"Привет\", \"Привет\")  "
      ],
      "metadata": {
        "id": "Y_v5venhNDey",
        "colab": {
          "base_uri": "https://localhost:8080/"
        },
        "outputId": "ddaf01ee-285c-4196-ffe6-0782a92b1e9e"
      },
      "execution_count": null,
      "outputs": [
        {
          "output_type": "execute_result",
          "data": {
            "text/plain": [
              "True"
            ]
          },
          "metadata": {},
          "execution_count": 12
        }
      ]
    },
    {
      "cell_type": "code",
      "source": [
        "# Разный регистр (ToDo: lower)\n",
        "text_match(\"привет\", \"Привет\")"
      ],
      "metadata": {
        "id": "mCkXZGN7NCxm",
        "colab": {
          "base_uri": "https://localhost:8080/"
        },
        "outputId": "3e4f60d4-5625-4eb6-a982-6f37abfbfdff"
      },
      "execution_count": null,
      "outputs": [
        {
          "output_type": "execute_result",
          "data": {
            "text/plain": [
              "True"
            ]
          },
          "metadata": {},
          "execution_count": 13
        }
      ]
    },
    {
      "cell_type": "code",
      "source": [
        "# Лишние символы (ToDo: regular expressions)\n",
        "text_match(\"Привет!!!\", \"Привет\")  "
      ],
      "metadata": {
        "id": "XyYl1qxJOWfE",
        "colab": {
          "base_uri": "https://localhost:8080/"
        },
        "outputId": "c8331f64-1b7f-43b8-d0c0-1499d2429890"
      },
      "execution_count": null,
      "outputs": [
        {
          "output_type": "execute_result",
          "data": {
            "text/plain": [
              "True"
            ]
          },
          "metadata": {},
          "execution_count": 14
        }
      ]
    },
    {
      "cell_type": "code",
      "source": [
        "# Лишние слова (ToDo: find)\n",
        "text_match(\"Привет, как дела\", \"Привет\")  "
      ],
      "metadata": {
        "id": "ElasFTAKOW8g",
        "colab": {
          "base_uri": "https://localhost:8080/"
        },
        "outputId": "e139a6c0-7c9e-4227-8030-3f008819ac3d"
      },
      "execution_count": null,
      "outputs": [
        {
          "output_type": "execute_result",
          "data": {
            "text/plain": [
              "True"
            ]
          },
          "metadata": {},
          "execution_count": 15
        }
      ]
    },
    {
      "cell_type": "code",
      "source": [
        "# Опечатки (ToDo: levenstein)\n",
        "text_match(\"Превет\", \"Привет\")"
      ],
      "metadata": {
        "id": "d9gU6QhvOY17",
        "colab": {
          "base_uri": "https://localhost:8080/"
        },
        "outputId": "fb2a5e4f-95a7-4085-9553-44c5eb2b5707"
      },
      "execution_count": null,
      "outputs": [
        {
          "output_type": "execute_result",
          "data": {
            "text/plain": [
              "True"
            ]
          },
          "metadata": {},
          "execution_count": 16
        }
      ]
    },
    {
      "cell_type": "code",
      "source": [
        "nltk.edit_distance(\"Превет\", \"Привет\")"
      ],
      "metadata": {
        "colab": {
          "base_uri": "https://localhost:8080/"
        },
        "id": "0wRMV5pFxBby",
        "outputId": "84656e16-5819-4763-c33c-ee26f11436bd"
      },
      "execution_count": null,
      "outputs": [
        {
          "output_type": "execute_result",
          "data": {
            "text/plain": [
              "1"
            ]
          },
          "metadata": {},
          "execution_count": 40
        }
      ]
    },
    {
      "cell_type": "code",
      "source": [
        "user_text = \"Превет\"\n",
        "example = \"Привет\"\n",
        "example_len = len(example)\n",
        "\n",
        "print(example_len)"
      ],
      "metadata": {
        "colab": {
          "base_uri": "https://localhost:8080/"
        },
        "id": "-50ItCwDxHR0",
        "outputId": "e570b949-02a0-4d23-8e64-2f4ba88bbc24"
      },
      "execution_count": null,
      "outputs": [
        {
          "output_type": "stream",
          "name": "stdout",
          "text": [
            "6\n"
          ]
        }
      ]
    },
    {
      "cell_type": "code",
      "source": [
        "user_text = \"Превет\"\n",
        "example = \"Привет\"\n",
        "example_len = len(example)\n",
        "\n",
        "difference = nltk.edit_distance(user_text, example)\n",
        "\n",
        "print(difference / example_len)"
      ],
      "metadata": {
        "colab": {
          "base_uri": "https://localhost:8080/"
        },
        "id": "PUr-z95YxWVs",
        "outputId": "c69f2ca8-46b1-488e-dfe4-96a4032c313e"
      },
      "execution_count": null,
      "outputs": [
        {
          "output_type": "stream",
          "name": "stdout",
          "text": [
            "0.16666666666666666\n"
          ]
        }
      ]
    },
    {
      "cell_type": "markdown",
      "source": [
        "### ВЕРСИЯ 2: Определение намерения (intent) пользователя\n"
      ],
      "metadata": {
        "id": "LTA2IxBGQfp7"
      }
    },
    {
      "cell_type": "code",
      "source": [
        "INTENTS = {\n",
        "    \"hello\": {\n",
        "        \"examples\": [\"Привет\", \"Хеллоу\", \"Хай\"],\n",
        "        \"responses\": [\"Здрасте\", \"Йоу\"],\n",
        "    },\n",
        "    \"how-are-you\": {\n",
        "        \"examples\": [\"Как дела\", \"Чем занят\", \"Что нового\"],\n",
        "        \"responses\": [\"Вроде ничего\", \"Хорошо, а как сам?\"],\n",
        "    },\n",
        "    \"exit\": {\n",
        "        \"examples\": [\"Пока\", \"Выход\"],\n",
        "        \"responses\": [\"Пока-пока!\", \"До скорой встречи :)\"],\n",
        "    },\n",
        "    'unknown': {\n",
        "        'examples': [],\n",
        "        'responses': ['Не понятно, повторите', \n",
        "                      'На такую тему поддержать разговор еще не могу', \n",
        "                      \"Давайте поговорим о чем-нибудь другом\"]\n",
        "    }\n",
        "}"
      ],
      "metadata": {
        "id": "jf5VCtOxPfDI"
      },
      "execution_count": null,
      "outputs": []
    },
    {
      "cell_type": "code",
      "source": [
        "# Определить намерение по тексту\n",
        "# \"Чем занят\" => \"how-are-you\"\n",
        "def get_intent(text):\n",
        "  # Проверить все существующие intent'ы\n",
        "    # Какой-нибудь один будет иметь example похожий на text\n",
        "    # Проверить все examples\n",
        "\n",
        "    for intent in INTENTS:\n",
        "        for example in INTENTS[intent]['examples']:\n",
        "            if text_match(text, example):\n",
        "                return intent\n",
        "    return 'unknown'\n",
        "    \n",
        "\n",
        "# \"hello\" => \"Йоу\"\n",
        "# Берет случайный response для данного intent'а\n",
        "def get_response(intent):\n",
        "    return random.choice(INTENTS[intent]['responses'])"
      ],
      "metadata": {
        "id": "185AmFXsRCiY"
      },
      "execution_count": null,
      "outputs": []
    },
    {
      "cell_type": "code",
      "source": [
        "get_intent('какк дела?')"
      ],
      "metadata": {
        "colab": {
          "base_uri": "https://localhost:8080/",
          "height": 35
        },
        "id": "kmvKmW7hyyGT",
        "outputId": "e887ebaa-3558-49cc-a55c-a786ea80ed68"
      },
      "execution_count": null,
      "outputs": [
        {
          "output_type": "execute_result",
          "data": {
            "text/plain": [
              "'how-are-you'"
            ],
            "application/vnd.google.colaboratory.intrinsic+json": {
              "type": "string"
            }
          },
          "metadata": {},
          "execution_count": 17
        }
      ]
    },
    {
      "cell_type": "code",
      "source": [
        "get_response('how-are-you')"
      ],
      "metadata": {
        "colab": {
          "base_uri": "https://localhost:8080/",
          "height": 35
        },
        "id": "LN3o4LdUzCg5",
        "outputId": "6fd0f90a-ceef-442c-ad59-50b68402ec05"
      },
      "execution_count": null,
      "outputs": [
        {
          "output_type": "execute_result",
          "data": {
            "text/plain": [
              "'Вроде ничего'"
            ],
            "application/vnd.google.colaboratory.intrinsic+json": {
              "type": "string"
            }
          },
          "metadata": {},
          "execution_count": 18
        }
      ]
    },
    {
      "cell_type": "code",
      "source": [
        "text = input('< ')\n",
        "intent = get_intent(text)\n",
        "answer = get_response(intent)\n",
        "print('>', answer)"
      ],
      "metadata": {
        "colab": {
          "base_uri": "https://localhost:8080/"
        },
        "id": "9MCk3O67zIW5",
        "outputId": "0511aa6c-9703-4f2d-b41d-f374c62c340a"
      },
      "execution_count": null,
      "outputs": [
        {
          "output_type": "stream",
          "name": "stdout",
          "text": [
            "< привет\n",
            "> Йоу\n"
          ]
        }
      ]
    },
    {
      "cell_type": "code",
      "source": [
        "intent = ''\n",
        "\n",
        "while intent != 'exit':\n",
        "    text = input('< ')\n",
        "    intent = get_intent(text)\n",
        "    answer = get_response(intent)\n",
        "    print('>', answer)"
      ],
      "metadata": {
        "colab": {
          "base_uri": "https://localhost:8080/"
        },
        "id": "XwujJSH5zId7",
        "outputId": "bc091448-9db5-454a-838e-61b3cb71bf14"
      },
      "execution_count": null,
      "outputs": [
        {
          "output_type": "stream",
          "name": "stdout",
          "text": [
            "< привет\n",
            "> Йоу\n",
            "< как дела\n",
            "> Вроде ничего\n",
            "< закажи пиццу\n",
            "> На такую тему поддержать разговор еще не могу\n",
            "< выход\n",
            "> До скорой встречи :)\n"
          ]
        }
      ]
    },
    {
      "cell_type": "markdown",
      "source": [
        "# День 2\n"
      ],
      "metadata": {
        "id": "hSSID1qhTRst"
      }
    },
    {
      "cell_type": "markdown",
      "source": [
        "## ВЕРСИЯ 3: Классификация текстов ML-моделью\n"
      ],
      "metadata": {
        "id": "pqqsdYVxRC4w"
      }
    },
    {
      "cell_type": "markdown",
      "source": [
        "### Шаг 1: собираем данные, на которых будет учиться модель"
      ],
      "metadata": {
        "id": "-mAZMC9gCvG5"
      }
    },
    {
      "cell_type": "markdown",
      "source": [
        "Задача: Научить Модель опеределять интент по тексту пользователя\n",
        "\n",
        "**Классификация текстов**\n",
        "\n",
        "\n",
        "Фраза на вход => Модель предсказывает интент фразы\n",
        "\n",
        "Входные данные (Фразы, X)\n",
        "Выходные данные (Интенты, y)\n",
        "\n",
        "Модель обучится на наших примерах и сможет предсказывать интенты по фразе."
      ],
      "metadata": {
        "id": "VLQd37nO3jhd"
      }
    },
    {
      "cell_type": "code",
      "source": [
        "# Скачаем файл с большим количеством примеров для обучения\n",
        "import os\n",
        "import urllib.request\n",
        "\n",
        "url = \"https://drive.google.com/uc?export=view&id=1u4sNekGHaDzgkOVzCOAbyWpFTEMfu95Z\"\n",
        "filename = \"intents_dataset.json\"\n",
        "urllib.request.urlretrieve(url, filename)"
      ],
      "metadata": {
        "id": "IekZ2-zqRHKH",
        "colab": {
          "base_uri": "https://localhost:8080/"
        },
        "outputId": "7ee31cb4-ee80-4027-9caa-470e3b6c3d2f"
      },
      "execution_count": null,
      "outputs": [
        {
          "output_type": "execute_result",
          "data": {
            "text/plain": [
              "('intents_dataset.json', <http.client.HTTPMessage at 0x7f387603b450>)"
            ]
          },
          "metadata": {},
          "execution_count": 22
        }
      ]
    },
    {
      "cell_type": "code",
      "source": [
        "# Считываем файл в словарь\n",
        "import json\n",
        "\n",
        "with open(filename, 'r', encoding='UTF-8') as file:\n",
        "    data = json.load(file)"
      ],
      "metadata": {
        "id": "7GJtHvYexRBu"
      },
      "execution_count": null,
      "outputs": []
    },
    {
      "cell_type": "code",
      "source": [
        "len(data)"
      ],
      "metadata": {
        "colab": {
          "base_uri": "https://localhost:8080/"
        },
        "id": "XMOUpG21s2IW",
        "outputId": "f17bc7dd-7bc8-4d1f-81e0-e0e7cf8be312"
      },
      "execution_count": null,
      "outputs": [
        {
          "output_type": "execute_result",
          "data": {
            "text/plain": [
              "439"
            ]
          },
          "metadata": {},
          "execution_count": 25
        }
      ]
    },
    {
      "cell_type": "markdown",
      "source": [
        "Составляем 2 массива:\n",
        "* **X** - входные фразы (то, что модель будет получать от пользователя)\n",
        "* **y** - интенты (то, что модель будет учиться прогнозировать)"
      ],
      "metadata": {
        "id": "x7LOaA445sNF"
      }
    },
    {
      "cell_type": "markdown",
      "source": [
        "<img src='https://drive.google.com/uc?export=view&id=1u3wiw_dSsYbEyGPfu3pj_mMHMnVVINS6' height=450 border='1' alt=''>"
      ],
      "metadata": {
        "id": "ydbBfFW-7Fn1"
      }
    },
    {
      "cell_type": "code",
      "source": [
        "# пробегаем по всему словарю - берем пары ключ-значение и раскладываем по двум спискам\n",
        "# сначала берем пары name, intent из словаря\n",
        "# потом для каждого элемента в examples и responses добавляем в X элемент, \n",
        "# а в y параллельно кладем name - название корневого интента\n",
        "X = []\n",
        "y = []\n",
        "\n",
        "\n",
        "for name in data:\n",
        "    for phrase in data[name]['examples']:\n",
        "        X.append(phrase)\n",
        "        y.append(name)\n",
        "    for phrase in data[name]['responses']:\n",
        "        X.append(phrase)\n",
        "        y.append(name)"
      ],
      "metadata": {
        "id": "Gaf5we3TxzDh"
      },
      "execution_count": null,
      "outputs": []
    },
    {
      "cell_type": "code",
      "source": [
        "len(X), len(y)"
      ],
      "metadata": {
        "colab": {
          "base_uri": "https://localhost:8080/"
        },
        "id": "gCR5NEkeuMVD",
        "outputId": "225fb1e2-07db-4b8c-988f-40fab415dcb5"
      },
      "execution_count": null,
      "outputs": [
        {
          "output_type": "execute_result",
          "data": {
            "text/plain": [
              "(5726, 5726)"
            ]
          },
          "metadata": {},
          "execution_count": 29
        }
      ]
    },
    {
      "cell_type": "code",
      "source": [
        "y"
      ],
      "metadata": {
        "colab": {
          "base_uri": "https://localhost:8080/"
        },
        "id": "sQqQI6BnuTgx",
        "outputId": "27485d2d-e7fe-4d24-b8b1-a910ba5d67bb"
      },
      "execution_count": null,
      "outputs": [
        {
          "output_type": "execute_result",
          "data": {
            "text/plain": [
              "['hello',\n",
              " 'hello',\n",
              " 'hello',\n",
              " 'hello',\n",
              " 'hello',\n",
              " 'hello',\n",
              " 'hello',\n",
              " 'hello',\n",
              " 'hello',\n",
              " 'hello',\n",
              " 'hello',\n",
              " 'hello',\n",
              " 'hello',\n",
              " 'hello',\n",
              " 'hello',\n",
              " 'hello',\n",
              " 'hello',\n",
              " 'hello',\n",
              " 'hello',\n",
              " 'hello',\n",
              " 'hello',\n",
              " 'hello',\n",
              " 'hello',\n",
              " 'hello',\n",
              " 'hello',\n",
              " 'hello',\n",
              " 'hello',\n",
              " 'hello',\n",
              " 'hello',\n",
              " 'hello',\n",
              " 'hello',\n",
              " 'hello',\n",
              " 'hello',\n",
              " 'hello',\n",
              " 'hello',\n",
              " 'hello',\n",
              " 'hello',\n",
              " 'hello',\n",
              " 'hello',\n",
              " 'hello',\n",
              " 'hello',\n",
              " 'hello',\n",
              " 'hello',\n",
              " 'hello',\n",
              " 'hello',\n",
              " 'hello',\n",
              " 'hello',\n",
              " 'hello',\n",
              " 'hello',\n",
              " 'hello',\n",
              " 'hello',\n",
              " 'hello',\n",
              " 'hello',\n",
              " 'hello',\n",
              " 'hello',\n",
              " 'hello',\n",
              " 'hello',\n",
              " 'hello',\n",
              " 'hello',\n",
              " 'hello',\n",
              " 'hello',\n",
              " 'hello',\n",
              " 'hello',\n",
              " 'hello',\n",
              " 'hello',\n",
              " 'hello',\n",
              " 'hello',\n",
              " 'hello',\n",
              " 'hello',\n",
              " 'hello',\n",
              " 'hello',\n",
              " 'hello',\n",
              " 'hello',\n",
              " 'hello',\n",
              " 'hello',\n",
              " 'hello',\n",
              " 'hello',\n",
              " 'hello',\n",
              " 'hello',\n",
              " 'hello',\n",
              " 'hello',\n",
              " 'hello',\n",
              " 'hello',\n",
              " 'hello',\n",
              " 'hello',\n",
              " 'hello',\n",
              " 'hello',\n",
              " 'hello',\n",
              " 'hello',\n",
              " 'hello',\n",
              " 'hello',\n",
              " 'hello',\n",
              " 'hello',\n",
              " 'hello',\n",
              " 'hello',\n",
              " 'hello',\n",
              " 'hello',\n",
              " 'hello',\n",
              " 'hello',\n",
              " 'hello',\n",
              " 'hello',\n",
              " 'hello',\n",
              " 'hello',\n",
              " 'hello',\n",
              " 'hello',\n",
              " 'hello',\n",
              " 'hello',\n",
              " 'hello',\n",
              " 'hello',\n",
              " 'hello',\n",
              " 'hello',\n",
              " 'hello',\n",
              " 'hello',\n",
              " 'hello',\n",
              " 'hello',\n",
              " 'hello',\n",
              " 'hello',\n",
              " 'hello',\n",
              " 'hello',\n",
              " 'hello',\n",
              " 'hello',\n",
              " 'hello',\n",
              " 'hello',\n",
              " 'hello',\n",
              " 'hello',\n",
              " 'hello',\n",
              " 'hello',\n",
              " 'hello',\n",
              " 'hello',\n",
              " 'hello',\n",
              " 'hello',\n",
              " 'hello',\n",
              " 'hello',\n",
              " 'hello',\n",
              " 'hello',\n",
              " 'hello',\n",
              " 'hello',\n",
              " 'hello',\n",
              " 'hello',\n",
              " 'hello',\n",
              " 'hello',\n",
              " 'hello',\n",
              " 'hello',\n",
              " 'hello',\n",
              " 'hello',\n",
              " 'hello',\n",
              " 'hello',\n",
              " 'hello',\n",
              " 'hello',\n",
              " 'hello',\n",
              " 'hello',\n",
              " 'hello',\n",
              " 'hello',\n",
              " 'hello',\n",
              " 'hello',\n",
              " 'hello',\n",
              " 'hello',\n",
              " 'hello',\n",
              " 'hello',\n",
              " 'hello',\n",
              " 'hello',\n",
              " 'hello',\n",
              " 'hello',\n",
              " 'hello',\n",
              " 'hello',\n",
              " 'hello',\n",
              " 'hello',\n",
              " 'hello',\n",
              " 'hello',\n",
              " 'hello',\n",
              " 'hello',\n",
              " 'hello',\n",
              " 'hello',\n",
              " 'hello',\n",
              " 'hello',\n",
              " 'hello',\n",
              " 'hello',\n",
              " 'hello',\n",
              " 'hello',\n",
              " 'hello',\n",
              " 'hello',\n",
              " 'hello',\n",
              " 'hello',\n",
              " 'hello',\n",
              " 'hello',\n",
              " 'hello',\n",
              " 'hello',\n",
              " 'hello',\n",
              " 'hello',\n",
              " 'hello',\n",
              " 'hello',\n",
              " 'hello',\n",
              " 'hello',\n",
              " 'hello',\n",
              " 'hello',\n",
              " 'hello',\n",
              " 'hello',\n",
              " 'hello',\n",
              " 'hello',\n",
              " 'hello',\n",
              " 'hello',\n",
              " 'hello',\n",
              " 'hello',\n",
              " 'hello',\n",
              " 'hello',\n",
              " 'hello',\n",
              " 'hello',\n",
              " 'hello',\n",
              " 'hello',\n",
              " 'hello',\n",
              " 'hello',\n",
              " 'hello',\n",
              " 'hello',\n",
              " 'hello',\n",
              " 'hello',\n",
              " 'hello',\n",
              " 'hello',\n",
              " 'hello',\n",
              " 'hello',\n",
              " 'hello',\n",
              " 'hello',\n",
              " 'hello',\n",
              " 'hello',\n",
              " 'hello',\n",
              " 'hello',\n",
              " 'hello',\n",
              " 'hello',\n",
              " 'hello',\n",
              " 'hello',\n",
              " 'hello',\n",
              " 'hello',\n",
              " 'hello',\n",
              " 'hello',\n",
              " 'hello',\n",
              " 'hello',\n",
              " 'hello',\n",
              " 'hello',\n",
              " 'hello',\n",
              " 'hello',\n",
              " 'hello',\n",
              " 'hello',\n",
              " 'hello',\n",
              " 'hello',\n",
              " 'hello',\n",
              " 'hello',\n",
              " 'hello',\n",
              " 'hello',\n",
              " 'hello',\n",
              " 'hello',\n",
              " 'hello',\n",
              " 'hello',\n",
              " 'hello',\n",
              " 'hello',\n",
              " 'hello',\n",
              " 'hello',\n",
              " 'hello',\n",
              " 'hello',\n",
              " 'hello',\n",
              " 'hello',\n",
              " 'hello',\n",
              " 'hello',\n",
              " 'hello',\n",
              " 'hello',\n",
              " 'hello',\n",
              " 'hello',\n",
              " 'hello',\n",
              " 'hello',\n",
              " 'hello',\n",
              " 'hello',\n",
              " 'hello',\n",
              " 'hello',\n",
              " 'hello',\n",
              " 'hello',\n",
              " 'hello',\n",
              " 'hello',\n",
              " 'hello',\n",
              " 'hello',\n",
              " 'hello',\n",
              " 'hello',\n",
              " 'hello',\n",
              " 'hello',\n",
              " 'hello',\n",
              " 'hello',\n",
              " 'hello',\n",
              " 'hello',\n",
              " 'hello',\n",
              " 'hello',\n",
              " 'hello',\n",
              " 'hello',\n",
              " 'hello',\n",
              " 'hello',\n",
              " 'hello',\n",
              " 'hello',\n",
              " 'hello',\n",
              " 'hello',\n",
              " 'hello',\n",
              " 'hello',\n",
              " 'hello',\n",
              " 'hello',\n",
              " 'hello',\n",
              " 'hello',\n",
              " 'hello',\n",
              " 'hello',\n",
              " 'hello',\n",
              " 'hello',\n",
              " 'hello',\n",
              " 'hello',\n",
              " 'hello',\n",
              " 'hello',\n",
              " 'hello',\n",
              " 'hello',\n",
              " 'hello',\n",
              " 'hello',\n",
              " 'hello',\n",
              " 'hello',\n",
              " 'hello',\n",
              " 'hello',\n",
              " 'hello',\n",
              " 'hello',\n",
              " 'hello',\n",
              " 'hello',\n",
              " 'hello',\n",
              " 'hello',\n",
              " 'hello',\n",
              " 'hello',\n",
              " 'hello',\n",
              " 'hello',\n",
              " 'hello',\n",
              " 'hello',\n",
              " 'hello',\n",
              " 'hello',\n",
              " 'hello',\n",
              " 'hello',\n",
              " 'hello',\n",
              " 'hello',\n",
              " 'hello',\n",
              " 'hello',\n",
              " 'hello',\n",
              " 'hello',\n",
              " 'hello',\n",
              " 'hello',\n",
              " 'bye',\n",
              " 'bye',\n",
              " 'bye',\n",
              " 'bye',\n",
              " 'bye',\n",
              " 'bye',\n",
              " 'bye',\n",
              " 'bye',\n",
              " 'bye',\n",
              " 'bye',\n",
              " 'bye',\n",
              " 'bye',\n",
              " 'bye',\n",
              " 'bye',\n",
              " 'bye',\n",
              " 'bye',\n",
              " 'bye',\n",
              " 'bye',\n",
              " 'bye',\n",
              " 'bye',\n",
              " 'bye',\n",
              " 'bye',\n",
              " 'bye',\n",
              " 'bye',\n",
              " 'bye',\n",
              " 'bye',\n",
              " 'bye',\n",
              " 'bye',\n",
              " 'bye',\n",
              " 'bye',\n",
              " 'bye',\n",
              " 'bye',\n",
              " 'bye',\n",
              " 'bye',\n",
              " 'bye',\n",
              " 'bye',\n",
              " 'bye',\n",
              " 'bye',\n",
              " 'bye',\n",
              " 'bye',\n",
              " 'bye',\n",
              " 'bye',\n",
              " 'bye',\n",
              " 'bye',\n",
              " 'bye',\n",
              " 'bye',\n",
              " 'bye',\n",
              " 'bye',\n",
              " 'bye',\n",
              " 'bye',\n",
              " 'bye',\n",
              " 'bye',\n",
              " 'bye',\n",
              " 'bye',\n",
              " 'bye',\n",
              " 'bye',\n",
              " 'bye',\n",
              " 'bye',\n",
              " 'bye',\n",
              " 'bye',\n",
              " 'bye',\n",
              " 'bye',\n",
              " 'bye',\n",
              " 'bye',\n",
              " 'bye',\n",
              " 'bye',\n",
              " 'bye',\n",
              " 'bye',\n",
              " 'bye',\n",
              " 'bye',\n",
              " 'bye',\n",
              " 'bye',\n",
              " 'bye',\n",
              " 'bye',\n",
              " 'bye',\n",
              " 'bye',\n",
              " 'bye',\n",
              " 'bye',\n",
              " 'bye',\n",
              " 'bye',\n",
              " 'bye',\n",
              " 'bye',\n",
              " 'bye',\n",
              " 'bye',\n",
              " 'bye',\n",
              " 'bye',\n",
              " 'bye',\n",
              " 'bye',\n",
              " 'bye',\n",
              " 'bye',\n",
              " 'bye',\n",
              " 'bye',\n",
              " 'bye',\n",
              " 'bye',\n",
              " 'bye',\n",
              " 'bye',\n",
              " 'bye',\n",
              " 'bye',\n",
              " 'bye',\n",
              " 'bye',\n",
              " 'bye',\n",
              " 'bye',\n",
              " 'bye',\n",
              " 'bye',\n",
              " 'bye',\n",
              " 'bye',\n",
              " 'bye',\n",
              " 'bye',\n",
              " 'bye',\n",
              " 'bye',\n",
              " 'bye',\n",
              " 'bye',\n",
              " 'bye',\n",
              " 'bye',\n",
              " 'bye',\n",
              " 'bye',\n",
              " 'bye',\n",
              " 'bye',\n",
              " 'bye',\n",
              " 'bye',\n",
              " 'bye',\n",
              " 'bye',\n",
              " 'bye',\n",
              " 'bye',\n",
              " 'bye',\n",
              " 'bye',\n",
              " 'bye',\n",
              " 'bye',\n",
              " 'bye',\n",
              " 'bye',\n",
              " 'bye',\n",
              " 'bye',\n",
              " 'bye',\n",
              " 'bye',\n",
              " 'bye',\n",
              " 'bye',\n",
              " 'bye',\n",
              " 'bye',\n",
              " 'bye',\n",
              " 'bye',\n",
              " 'bye',\n",
              " 'bye',\n",
              " 'bye',\n",
              " 'bye',\n",
              " 'bye',\n",
              " 'bye',\n",
              " 'bye',\n",
              " 'bye',\n",
              " 'bye',\n",
              " 'bye',\n",
              " 'bye',\n",
              " 'bye',\n",
              " 'bye',\n",
              " 'bye',\n",
              " 'bye',\n",
              " 'bye',\n",
              " 'bye',\n",
              " 'bye',\n",
              " 'bye',\n",
              " 'bye',\n",
              " 'bye',\n",
              " 'bye',\n",
              " 'bye',\n",
              " 'bye',\n",
              " 'bye',\n",
              " 'bye',\n",
              " 'bye',\n",
              " 'bye',\n",
              " 'bye',\n",
              " 'bye',\n",
              " 'bye',\n",
              " 'bye',\n",
              " 'bye',\n",
              " 'bye',\n",
              " 'bye',\n",
              " 'bye',\n",
              " 'bye',\n",
              " 'bye',\n",
              " 'bye',\n",
              " 'bye',\n",
              " 'bye',\n",
              " 'bye',\n",
              " 'bye',\n",
              " 'bye',\n",
              " 'bye',\n",
              " 'bye',\n",
              " 'bye',\n",
              " 'bye',\n",
              " 'bye',\n",
              " 'bye',\n",
              " 'bye',\n",
              " 'bye',\n",
              " 'bye',\n",
              " 'bye',\n",
              " 'bye',\n",
              " 'bye',\n",
              " 'bye',\n",
              " 'bye',\n",
              " 'bye',\n",
              " 'bye',\n",
              " 'bye',\n",
              " 'bye',\n",
              " 'bye',\n",
              " 'bye',\n",
              " 'bye',\n",
              " 'bye',\n",
              " 'bye',\n",
              " 'bye',\n",
              " 'bye',\n",
              " 'bye',\n",
              " 'bye',\n",
              " 'bye',\n",
              " 'bye',\n",
              " 'bye',\n",
              " 'bye',\n",
              " 'bye',\n",
              " 'bye',\n",
              " 'bye',\n",
              " 'bye',\n",
              " 'bye',\n",
              " 'bye',\n",
              " 'bye',\n",
              " 'bye',\n",
              " 'bye',\n",
              " 'bye',\n",
              " 'bye',\n",
              " 'bye',\n",
              " 'bye',\n",
              " 'bye',\n",
              " 'bye',\n",
              " 'bye',\n",
              " 'bye',\n",
              " 'bye',\n",
              " 'bye',\n",
              " 'bye',\n",
              " 'bye',\n",
              " 'bye',\n",
              " 'bye',\n",
              " 'bye',\n",
              " 'bye',\n",
              " 'bye',\n",
              " 'bye',\n",
              " 'bye',\n",
              " 'bye',\n",
              " 'bye',\n",
              " 'bye',\n",
              " 'bye',\n",
              " 'bye',\n",
              " 'bye',\n",
              " 'bye',\n",
              " 'bye',\n",
              " 'bye',\n",
              " 'bye',\n",
              " 'bye',\n",
              " 'bye',\n",
              " 'bye',\n",
              " 'bye',\n",
              " 'bye',\n",
              " 'bye',\n",
              " 'bye',\n",
              " 'bye',\n",
              " 'bye',\n",
              " 'bye',\n",
              " 'bye',\n",
              " 'bye',\n",
              " 'bye',\n",
              " 'bye',\n",
              " 'bye',\n",
              " 'bye',\n",
              " 'bye',\n",
              " 'bye',\n",
              " 'bye',\n",
              " 'bye',\n",
              " 'how_are_you56234',\n",
              " 'how_are_you56234',\n",
              " 'how_are_you56234',\n",
              " 'how_are_you56234',\n",
              " 'how_are_you56234',\n",
              " 'how_are_you56234',\n",
              " 'how_are_you56234',\n",
              " 'how_your_day89347',\n",
              " 'how_your_day89347',\n",
              " 'how_your_day89347',\n",
              " 'how_your_day89347',\n",
              " 'how_your_day89347',\n",
              " 'how_are_you_feeling74447',\n",
              " 'how_are_you_feeling74447',\n",
              " 'how_are_you_feeling74447',\n",
              " 'how_are_you_feeling74447',\n",
              " 'do_you_want_play8679435',\n",
              " 'do_you_want_play8679435',\n",
              " 'do_you_want_play8679435',\n",
              " 'do_you_want_play8679435',\n",
              " 'do_you_want_play8679435',\n",
              " 'do_you_want_play8679435',\n",
              " 'do_you_want_play8679435',\n",
              " 'code_phrase978457',\n",
              " 'code_phrase978457',\n",
              " 'code_phrase978457',\n",
              " 'code_phrase978457',\n",
              " 'names',\n",
              " 'names',\n",
              " 'names',\n",
              " 'names',\n",
              " 'names',\n",
              " 'names',\n",
              " 'mood',\n",
              " 'mood',\n",
              " 'mood',\n",
              " 'mood',\n",
              " 'mood',\n",
              " 'mood',\n",
              " 'mood',\n",
              " 'mood',\n",
              " 'mood',\n",
              " 'mood',\n",
              " 'mood',\n",
              " 'mood',\n",
              " 'mood',\n",
              " 'mood',\n",
              " 'mood',\n",
              " 'mood',\n",
              " 'mood',\n",
              " 'mood',\n",
              " 'mood',\n",
              " 'mood',\n",
              " 'mood',\n",
              " 'mood',\n",
              " 'mood',\n",
              " 'mood',\n",
              " 'mood',\n",
              " 'mood',\n",
              " 'mood',\n",
              " 'mood',\n",
              " 'mood',\n",
              " 'mood',\n",
              " 'mood',\n",
              " 'mood',\n",
              " 'mood',\n",
              " 'mood',\n",
              " 'mood',\n",
              " 'mood',\n",
              " 'mood',\n",
              " 'mood',\n",
              " 'mood',\n",
              " 'mood',\n",
              " 'mood',\n",
              " 'mood',\n",
              " 'mood',\n",
              " 'mood',\n",
              " 'mood',\n",
              " 'mood',\n",
              " 'mood',\n",
              " 'mood',\n",
              " 'mood',\n",
              " 'mood',\n",
              " 'mood',\n",
              " 'mood',\n",
              " 'mood',\n",
              " 'mood',\n",
              " 'mood',\n",
              " 'mood',\n",
              " 'mood',\n",
              " 'mood',\n",
              " 'mood',\n",
              " 'mood',\n",
              " 'books',\n",
              " 'books',\n",
              " 'books',\n",
              " 'books',\n",
              " 'books',\n",
              " 'films',\n",
              " 'films',\n",
              " 'films',\n",
              " 'films',\n",
              " 'films',\n",
              " 'films',\n",
              " 'films',\n",
              " 'films',\n",
              " 'films',\n",
              " 'films',\n",
              " 'films',\n",
              " 'films',\n",
              " 'films',\n",
              " 'films',\n",
              " 'films',\n",
              " 'films',\n",
              " 'films',\n",
              " 'films',\n",
              " 'films',\n",
              " 'films',\n",
              " 'films',\n",
              " 'films',\n",
              " 'films',\n",
              " 'films',\n",
              " 'films',\n",
              " 'films',\n",
              " 'films',\n",
              " 'films',\n",
              " 'films',\n",
              " 'films',\n",
              " 'films',\n",
              " 'films',\n",
              " 'films',\n",
              " 'films',\n",
              " 'films',\n",
              " 'films',\n",
              " 'films',\n",
              " 'films',\n",
              " 'humor',\n",
              " 'humor',\n",
              " 'humor',\n",
              " 'humor',\n",
              " 'humor',\n",
              " 'humor',\n",
              " 'humor',\n",
              " 'humor',\n",
              " 'humor',\n",
              " 'humor',\n",
              " 'humor',\n",
              " 'humor',\n",
              " 'humor',\n",
              " 'humor',\n",
              " 'humor',\n",
              " 'humor',\n",
              " 'humor',\n",
              " 'humor',\n",
              " 'humor',\n",
              " 'ask price',\n",
              " 'ask price',\n",
              " 'ask price',\n",
              " 'ask price',\n",
              " 'ask price',\n",
              " 'ask price',\n",
              " 'operator request',\n",
              " 'operator request',\n",
              " 'operator request',\n",
              " 'operator request',\n",
              " 'operator request',\n",
              " 'operator request',\n",
              " 'operator request',\n",
              " 'name request',\n",
              " 'name request',\n",
              " 'name request',\n",
              " 'name request',\n",
              " 'name request',\n",
              " 'options request',\n",
              " 'options request',\n",
              " 'options request',\n",
              " 'options request',\n",
              " 'problem',\n",
              " 'problem',\n",
              " 'problem',\n",
              " 'problem',\n",
              " 'problem',\n",
              " 'problem',\n",
              " 'problem',\n",
              " 'problem',\n",
              " 'hobby',\n",
              " 'hobby',\n",
              " 'hobby',\n",
              " 'hobby',\n",
              " 'hobby',\n",
              " 'hobby',\n",
              " 'hobby',\n",
              " 'singer',\n",
              " 'singer',\n",
              " 'singer',\n",
              " 'singer',\n",
              " 'singer',\n",
              " 'singer',\n",
              " 'singer',\n",
              " 'singer',\n",
              " 'attractions',\n",
              " 'attractions',\n",
              " 'attractions',\n",
              " 'attractions',\n",
              " 'attractions',\n",
              " 'attractions',\n",
              " 'attractions',\n",
              " 'stories',\n",
              " 'stories',\n",
              " 'stories',\n",
              " 'stories',\n",
              " 'stories',\n",
              " 'stories',\n",
              " 'stories',\n",
              " 'stories',\n",
              " 'stories',\n",
              " 'stories',\n",
              " 'stories',\n",
              " 'stories',\n",
              " 'napoleon',\n",
              " 'napoleon',\n",
              " 'napoleon',\n",
              " 'napoleon',\n",
              " 'snoop_dog',\n",
              " 'snoop_dog',\n",
              " 'snoop_dog',\n",
              " 'snoop_dog',\n",
              " 'snoop_dog',\n",
              " 'hot_dog',\n",
              " 'hot_dog',\n",
              " 'hot_dog',\n",
              " 'putin',\n",
              " 'putin',\n",
              " 'putin',\n",
              " 'santa_barbara',\n",
              " 'santa_barbara',\n",
              " 'santa_barbara',\n",
              " 'bot_name',\n",
              " 'bot_name',\n",
              " 'bot_name',\n",
              " 'bot_name',\n",
              " 'bot_name',\n",
              " 'bot_name',\n",
              " 'what_cen_you_do',\n",
              " 'what_cen_you_do',\n",
              " 'what_cen_you_do',\n",
              " 'what_cen_you_do',\n",
              " 'what_cen_you_do',\n",
              " 'what_cen_you_do',\n",
              " 'thanks',\n",
              " 'thanks',\n",
              " 'thanks',\n",
              " 'thanks',\n",
              " 'thanks',\n",
              " 'thanks',\n",
              " 'thanks',\n",
              " 'thanks',\n",
              " 'thanks',\n",
              " 'thanks',\n",
              " 'thanks',\n",
              " 'thanks',\n",
              " 'thanks',\n",
              " 'thanks',\n",
              " 'thanks',\n",
              " 'thanks',\n",
              " 'thanks',\n",
              " 'thanks',\n",
              " 'thanks',\n",
              " 'thanks',\n",
              " 'thanks',\n",
              " 'thanks',\n",
              " 'thanks',\n",
              " 'thanks',\n",
              " 'thanks',\n",
              " 'thanks',\n",
              " 'thanks',\n",
              " 'thanks',\n",
              " 'thanks',\n",
              " 'thanks',\n",
              " 'thanks',\n",
              " 'thanks',\n",
              " 'thanks',\n",
              " 'thanks',\n",
              " 'thanks',\n",
              " 'thanks',\n",
              " 'thanks',\n",
              " 'thanks',\n",
              " 'thanks',\n",
              " 'thanks',\n",
              " 'thanks',\n",
              " 'thanks',\n",
              " 'thanks',\n",
              " 'thanks',\n",
              " 'help_me',\n",
              " 'help_me',\n",
              " 'help_me',\n",
              " 'help_me',\n",
              " 'help_me',\n",
              " 'help_me',\n",
              " 'help_me',\n",
              " 'help_me',\n",
              " 'help_me',\n",
              " 'not_that',\n",
              " 'not_that',\n",
              " 'not_that',\n",
              " 'not_that',\n",
              " 'not_that',\n",
              " 'not_that',\n",
              " 'how_are_you',\n",
              " 'how_are_you',\n",
              " 'how_are_you',\n",
              " 'how_are_you',\n",
              " 'how_are_you',\n",
              " 'how_are_you',\n",
              " 'how_are_you',\n",
              " 'how_are_you',\n",
              " 'how_are_you',\n",
              " 'how_are_you',\n",
              " 'how_are_you',\n",
              " 'how_are_you',\n",
              " 'how_are_you',\n",
              " 'how_are_you',\n",
              " 'how_are_you',\n",
              " 'how_are_you',\n",
              " 'how_are_you',\n",
              " 'how_are_you',\n",
              " 'how_are_you',\n",
              " 'how_are_you',\n",
              " 'how_are_you',\n",
              " 'how_are_you',\n",
              " 'how_are_you',\n",
              " 'feedback_good',\n",
              " 'feedback_good',\n",
              " 'feedback_good',\n",
              " 'feedback_good',\n",
              " 'feedback_good',\n",
              " 'feedback_good',\n",
              " 'feedback_good',\n",
              " 'feedback_good',\n",
              " 'feedback_good',\n",
              " 'feedback_good',\n",
              " 'feedback_good',\n",
              " 'feedback_good',\n",
              " 'feedback_bad',\n",
              " 'feedback_bad',\n",
              " 'feedback_bad',\n",
              " 'feedback_bad',\n",
              " 'feedback_bad',\n",
              " 'feedback_bad',\n",
              " 'feedback_bad',\n",
              " 'feedback_bad',\n",
              " 'feedback_bad',\n",
              " 'feedback_bad',\n",
              " 'actions',\n",
              " 'actions',\n",
              " 'actions',\n",
              " 'actions',\n",
              " 'actions',\n",
              " 'actions',\n",
              " 'actions',\n",
              " 'actions',\n",
              " 'actions',\n",
              " 'actions',\n",
              " 'actions',\n",
              " 'hobbies',\n",
              " 'hobbies',\n",
              " 'hobbies',\n",
              " 'hobbies',\n",
              " 'hobbies',\n",
              " 'hobbies',\n",
              " 'hobbies',\n",
              " 'hobbies',\n",
              " 'hobbies',\n",
              " 'hobbies',\n",
              " 'hobbies',\n",
              " 'hobbies',\n",
              " 'hobbies',\n",
              " 'hobbies',\n",
              " 'hobbies',\n",
              " 'hobbies',\n",
              " 'hobbies',\n",
              " 'hobbies',\n",
              " 'hobbies',\n",
              " 'hobbies',\n",
              " 'hobbies',\n",
              " 'exits',\n",
              " ...]"
            ]
          },
          "metadata": {},
          "execution_count": 30
        }
      ]
    },
    {
      "cell_type": "markdown",
      "source": [
        "### Шаг 2: преобразуем слова в числа"
      ],
      "metadata": {
        "id": "yghoYMy4C5b0"
      }
    },
    {
      "cell_type": "markdown",
      "source": [
        "**Векторизация** - процесс кодирования слова в набор чисел\n",
        "\n",
        "[sklearn.CountVectorizer](https://scikit-learn.org/stable/modules/generated/sklearn.feature_extraction.text.CountVectorizer.html)\n",
        "\n",
        "1. На вход подается большой набор фраз\n",
        "2. Векторайзер обучается (каждому слову выделяется отдельная ячейка, куда будет вставляться код - число, сколько раз слово встретилось во фразе)\n",
        "3. Векторайзер готов работать с новыми текстами\n",
        "\n",
        "**Пример**\n",
        "```\n",
        "1. Набор текстов = {\n",
        "  \"мама мыла раму\", \n",
        "  \"Саша мыла раму\",\n",
        "}\n",
        "```\n",
        "\n",
        "```\n",
        "2. Обучение\n",
        "мама -> 1, мыла -> 2, раму -> 3, Саша -> 4\n",
        "  \"мама мыла раму\" = [1, 1, 1, 0]\n",
        "  \"Саша мыла раму\" = [0, 1, 1, 1]\n",
        "```\n",
        "```\n",
        "3. Векторизация\n",
        "\"мама мама мама\" = [3, 0, 0, 0]\n",
        "\"как мама мыла раму\" = [1, 1, 1, 0]\n",
        "\"шла Саша по шоссе\" = [0, 0, 0, 1]\n",
        "```"
      ],
      "metadata": {
        "id": "RrraXH4QC7zX"
      }
    },
    {
      "cell_type": "code",
      "source": [
        "from sklearn.feature_extraction.text import CountVectorizer\n",
        "\n",
        "vectorizer = CountVectorizer()\n",
        "vectorizer.fit([\"мама мыла раму\", \"Саша мыла раму\",]) # Обучаем векторайзер\n",
        "\n",
        "print(vectorizer.get_feature_names_out())\n",
        "print(\"мама мама мама ->\", vectorizer.transform([\"мама мама мама\"]).toarray())\n",
        "print(\"шла Саша по шоссе ->\", vectorizer.transform([\"шла Саша по шоссе\"]).toarray())"
      ],
      "metadata": {
        "id": "PlmCHQSEEPAm",
        "colab": {
          "base_uri": "https://localhost:8080/"
        },
        "outputId": "bf5be3c5-420e-4de0-ceb1-9a685ed107e0"
      },
      "execution_count": null,
      "outputs": [
        {
          "output_type": "stream",
          "name": "stdout",
          "text": [
            "['мама' 'мыла' 'раму' 'саша']\n",
            "мама мама мама -> [[3 0 0 0]]\n",
            "шла Саша по шоссе -> [[0 0 0 1]]\n"
          ]
        }
      ]
    },
    {
      "cell_type": "markdown",
      "source": [
        "Векторизуем наши фразы X"
      ],
      "metadata": {
        "id": "zkjSjoRHGv7G"
      }
    },
    {
      "cell_type": "code",
      "source": [
        "vectorizer = CountVectorizer()\n",
        "\n",
        "vectorizer.fit(X)"
      ],
      "metadata": {
        "id": "xg7odfBDGymT",
        "colab": {
          "base_uri": "https://localhost:8080/"
        },
        "outputId": "77ba873c-0efd-4d8f-a51e-947c6d3534f7"
      },
      "execution_count": null,
      "outputs": [
        {
          "output_type": "execute_result",
          "data": {
            "text/plain": [
              "CountVectorizer()"
            ]
          },
          "metadata": {},
          "execution_count": 32
        }
      ]
    },
    {
      "cell_type": "code",
      "source": [
        "X_vec = vectorizer.transform(X)"
      ],
      "metadata": {
        "id": "UbP7bzU1vytz"
      },
      "execution_count": null,
      "outputs": []
    },
    {
      "cell_type": "code",
      "source": [
        "X_vec.toarray()"
      ],
      "metadata": {
        "colab": {
          "base_uri": "https://localhost:8080/"
        },
        "id": "Fg9vP3Brv6fA",
        "outputId": "8c70e331-2a7e-48a6-9519-0ac42abf18c8"
      },
      "execution_count": null,
      "outputs": [
        {
          "output_type": "execute_result",
          "data": {
            "text/plain": [
              "array([[0, 0, 0, ..., 0, 0, 0],\n",
              "       [0, 0, 0, ..., 0, 0, 0],\n",
              "       [0, 0, 0, ..., 0, 0, 0],\n",
              "       ...,\n",
              "       [0, 0, 0, ..., 0, 0, 0],\n",
              "       [0, 0, 0, ..., 0, 0, 0],\n",
              "       [0, 0, 0, ..., 0, 0, 0]])"
            ]
          },
          "metadata": {},
          "execution_count": 36
        }
      ]
    },
    {
      "cell_type": "code",
      "source": [
        "vectorizer.transform(['какая погода']).toarray()"
      ],
      "metadata": {
        "colab": {
          "base_uri": "https://localhost:8080/"
        },
        "id": "KGEIVLYqwJat",
        "outputId": "bf332856-a5ba-48cd-c512-c11bafd044d0"
      },
      "execution_count": null,
      "outputs": [
        {
          "output_type": "execute_result",
          "data": {
            "text/plain": [
              "array([[0, 0, 0, ..., 0, 0, 0]])"
            ]
          },
          "metadata": {},
          "execution_count": 37
        }
      ]
    },
    {
      "cell_type": "code",
      "source": [
        "vectorizer.get_feature_names_out()"
      ],
      "metadata": {
        "colab": {
          "base_uri": "https://localhost:8080/"
        },
        "id": "8Ilj5RD-wPjt",
        "outputId": "40eb6a89-3cce-4648-ac91-bc042c3537ec"
      },
      "execution_count": null,
      "outputs": [
        {
          "output_type": "execute_result",
          "data": {
            "text/plain": [
              "array(['00', '066', '0с', ..., 'ясно', 'ящерица', 'ёлочка'], dtype=object)"
            ]
          },
          "metadata": {},
          "execution_count": 38
        }
      ]
    },
    {
      "cell_type": "markdown",
      "source": [
        "### Шаг 3: обучаем классификатор текстов"
      ],
      "metadata": {
        "id": "hQmd5e9_J12n"
      }
    },
    {
      "cell_type": "code",
      "source": [
        "from sklearn.neural_network import MLPClassifier # Импортируем\n",
        "# Создаем модель\n",
        "\n",
        "model_mlp = MLPClassifier()\n",
        "# Обучаем модель\n",
        "\n",
        "model_mlp.fit(X_vec, y)"
      ],
      "metadata": {
        "id": "Ve5tV5Pdd7Qn",
        "colab": {
          "base_uri": "https://localhost:8080/"
        },
        "outputId": "98923a07-28f7-42ee-c3b3-796e1c985eca"
      },
      "execution_count": null,
      "outputs": [
        {
          "output_type": "stream",
          "name": "stderr",
          "text": [
            "/usr/local/lib/python3.7/dist-packages/sklearn/neural_network/_multilayer_perceptron.py:696: ConvergenceWarning: Stochastic Optimizer: Maximum iterations (200) reached and the optimization hasn't converged yet.\n",
            "  ConvergenceWarning,\n"
          ]
        },
        {
          "output_type": "execute_result",
          "data": {
            "text/plain": [
              "MLPClassifier()"
            ]
          },
          "metadata": {},
          "execution_count": 39
        }
      ]
    },
    {
      "cell_type": "markdown",
      "source": [
        "### Шаг 4: оцениваем качество"
      ],
      "metadata": {
        "id": "B2Y4Ov61J5rg"
      }
    },
    {
      "cell_type": "markdown",
      "source": [
        "**Accuracy** $= \\frac{n\\ угаданных}{N\\ всего}$ — доля правильных ответов (больше - лучше)\n",
        "\n",
        "_Вопрос на внимательность: какое максимальное и минимальное значение метрики может быть, исходя из формулы выше?_"
      ],
      "metadata": {
        "id": "rO1zwbF3ePcg"
      }
    },
    {
      "cell_type": "code",
      "source": [
        "model_mlp.score(X_vec, y)  # Качество на тренировочной выборке = accuracy / больше = лучше"
      ],
      "metadata": {
        "id": "9UurWB9MJy0T",
        "colab": {
          "base_uri": "https://localhost:8080/"
        },
        "outputId": "1aa30f70-7bcb-4a91-ae7b-6b9d6f4c98d2"
      },
      "execution_count": null,
      "outputs": [
        {
          "output_type": "execute_result",
          "data": {
            "text/plain": [
              "0.8643031784841075"
            ]
          },
          "metadata": {},
          "execution_count": 40
        }
      ]
    },
    {
      "cell_type": "markdown",
      "source": [
        "### Шаг 5: пишем функцию для получения интента с помощью ML"
      ],
      "metadata": {
        "id": "V2qQ8d8FrxQt"
      }
    },
    {
      "cell_type": "code",
      "source": [
        "MODEL = model_mlp\n",
        "\n",
        "def get_intent(text):\n",
        "    # сначала преобразуем текст в числа\n",
        "\n",
        "    text_vec = vectorizer.transform([text])\n",
        "    # берем элемент номер 0 - для того, чтобы избавиться от формата \"список\", который необходим для векторизации и машинного обучения\n",
        "    return model_mlp.predict(text_vec)[0]  "
      ],
      "metadata": {
        "id": "9RLxxqpSr6Kv"
      },
      "execution_count": null,
      "outputs": []
    },
    {
      "cell_type": "code",
      "source": [
        "get_intent(\"привет, как дела?\")"
      ],
      "metadata": {
        "id": "xHt2Npg-sXhV",
        "colab": {
          "base_uri": "https://localhost:8080/",
          "height": 35
        },
        "outputId": "b20c7017-7aae-4b8c-9504-8d358204ad34"
      },
      "execution_count": null,
      "outputs": [
        {
          "output_type": "execute_result",
          "data": {
            "text/plain": [
              "'hello'"
            ],
            "application/vnd.google.colaboratory.intrinsic+json": {
              "type": "string"
            }
          },
          "metadata": {},
          "execution_count": 44
        }
      ]
    },
    {
      "cell_type": "code",
      "source": [
        "get_intent(\"давай анекдот\")"
      ],
      "metadata": {
        "id": "8_kIzeDUsnuk",
        "colab": {
          "base_uri": "https://localhost:8080/",
          "height": 35
        },
        "outputId": "e6e09c67-3863-4b30-f066-ada4b6b0fed5"
      },
      "execution_count": null,
      "outputs": [
        {
          "output_type": "execute_result",
          "data": {
            "text/plain": [
              "'talks_dogs'"
            ],
            "application/vnd.google.colaboratory.intrinsic+json": {
              "type": "string"
            }
          },
          "metadata": {},
          "execution_count": 45
        }
      ]
    },
    {
      "cell_type": "code",
      "source": [
        "data['talks_dogs']"
      ],
      "metadata": {
        "colab": {
          "base_uri": "https://localhost:8080/"
        },
        "id": "Gaj36s_13SEp",
        "outputId": "7860c537-1699-4aaf-b0d8-b8059a753440"
      },
      "execution_count": null,
      "outputs": [
        {
          "output_type": "execute_result",
          "data": {
            "text/plain": [
              "{'examples': ['ну',\n",
              "  'собака',\n",
              "  'расскажи',\n",
              "  'анекдот',\n",
              "  'животное',\n",
              "  'давай',\n",
              "  'песик',\n",
              "  'еще',\n",
              "  'шутка'],\n",
              " 'responses': ['Объявление: Пропала собака!! Очень умная!! /nШарик, если ты читаешь это сообщение, отпишись мне на e—mail, дети переживают!!',\n",
              "  'Я опоздал на работу, потому что собака съела моё время.',\n",
              "  '— Это неописуемо, — сказала собака, глядя на баобаб.',\n",
              "  '— Что мужчина делает стоя, женщина — сидя, а собака поднимая одну лапу? \\n— Здороваются!',\n",
              "  'Завёл собаку — заглохла.']}"
            ]
          },
          "metadata": {},
          "execution_count": 46
        }
      ]
    },
    {
      "cell_type": "code",
      "source": [
        "def get_response(intent):\n",
        "    return random.choice(data[intent]['responses'])"
      ],
      "metadata": {
        "id": "oGSp4Ssx_mMe"
      },
      "execution_count": null,
      "outputs": []
    },
    {
      "cell_type": "code",
      "source": [
        "def bot(text):\n",
        "    intent = get_intent(text)\n",
        "    answer = get_response(intent)\n",
        "    return answer"
      ],
      "metadata": {
        "id": "mHZ89U82_WNz"
      },
      "execution_count": null,
      "outputs": []
    },
    {
      "cell_type": "code",
      "source": [
        "text = \"\"\n",
        "while text != \"Выход\":\n",
        "    text=input('< ')\n",
        "    print('>', bot(text))"
      ],
      "metadata": {
        "id": "7-cOH_q8_0z3",
        "colab": {
          "base_uri": "https://localhost:8080/"
        },
        "outputId": "5759073a-ed67-433b-dfd5-741ee262e507"
      },
      "execution_count": null,
      "outputs": [
        {
          "output_type": "stream",
          "name": "stdout",
          "text": [
            "< Привет, как дела?\n",
            "> Халоу!\n",
            "< Расскажи шутку\n",
            "> калькулятор - это устаревший робот,ахахахах.\n",
            "< Какая погода?\n",
            "> Возможно дождь\n",
            "< Выход\n",
            "> See\n"
          ]
        }
      ]
    },
    {
      "cell_type": "markdown",
      "source": [
        "# День 3"
      ],
      "metadata": {
        "id": "MMr2mDwFTVeK"
      }
    },
    {
      "cell_type": "markdown",
      "source": [
        "Бот в Телеграм\n",
        "\n",
        "Библиотека [python-telegram-bot](https://python-telegram-bot.org/)\n",
        "\n",
        "Токен получаем у телеграм-бота @BotFather"
      ],
      "metadata": {
        "id": "cDuASTUtss8Y"
      }
    },
    {
      "cell_type": "code",
      "source": [
        "!pip install python-telegram-bot --pre"
      ],
      "metadata": {
        "id": "4eCC32rImnd9",
        "colab": {
          "base_uri": "https://localhost:8080/",
          "height": 1000
        },
        "outputId": "4c6e250d-1376-43ce-c3c9-c9bb018863dc"
      },
      "execution_count": null,
      "outputs": [
        {
          "output_type": "stream",
          "name": "stdout",
          "text": [
            "Looking in indexes: https://pypi.org/simple, https://us-python.pkg.dev/colab-wheels/public/simple/\n",
            "Collecting python-telegram-bot\n",
            "  Downloading python_telegram_bot-20.0a2-py3-none-any.whl (451 kB)\n",
            "\u001b[K     |████████████████████████████████| 451 kB 5.0 MB/s \n",
            "\u001b[?25hCollecting httpx~=0.23.0\n",
            "  Downloading httpx-0.23.0-py3-none-any.whl (84 kB)\n",
            "\u001b[K     |████████████████████████████████| 84 kB 3.6 MB/s \n",
            "\u001b[?25hCollecting tornado~=6.1\n",
            "  Downloading tornado-6.2-cp37-abi3-manylinux_2_5_x86_64.manylinux1_x86_64.manylinux_2_17_x86_64.manylinux2014_x86_64.whl (423 kB)\n",
            "\u001b[K     |████████████████████████████████| 423 kB 24.1 MB/s \n",
            "\u001b[?25hCollecting APScheduler~=3.9.1\n",
            "  Downloading APScheduler-3.9.1-py2.py3-none-any.whl (59 kB)\n",
            "\u001b[K     |████████████████████████████████| 59 kB 7.1 MB/s \n",
            "\u001b[?25hRequirement already satisfied: pytz>=2018.6 in /usr/local/lib/python3.7/dist-packages (from python-telegram-bot) (2022.1)\n",
            "Collecting cachetools~=5.2.0\n",
            "  Downloading cachetools-5.2.0-py3-none-any.whl (9.3 kB)\n",
            "Collecting tzlocal!=3.*,>=2.0\n",
            "  Downloading tzlocal-4.2-py3-none-any.whl (19 kB)\n",
            "Requirement already satisfied: setuptools>=0.7 in /usr/local/lib/python3.7/dist-packages (from APScheduler~=3.9.1->python-telegram-bot) (57.4.0)\n",
            "Requirement already satisfied: six>=1.4.0 in /usr/local/lib/python3.7/dist-packages (from APScheduler~=3.9.1->python-telegram-bot) (1.15.0)\n",
            "Requirement already satisfied: certifi in /usr/local/lib/python3.7/dist-packages (from httpx~=0.23.0->python-telegram-bot) (2022.6.15)\n",
            "Collecting rfc3986[idna2008]<2,>=1.3\n",
            "  Downloading rfc3986-1.5.0-py2.py3-none-any.whl (31 kB)\n",
            "Collecting sniffio\n",
            "  Downloading sniffio-1.2.0-py3-none-any.whl (10 kB)\n",
            "Collecting httpcore<0.16.0,>=0.15.0\n",
            "  Downloading httpcore-0.15.0-py3-none-any.whl (68 kB)\n",
            "\u001b[K     |████████████████████████████████| 68 kB 5.4 MB/s \n",
            "\u001b[?25hCollecting h11<0.13,>=0.11\n",
            "  Downloading h11-0.12.0-py3-none-any.whl (54 kB)\n",
            "\u001b[K     |████████████████████████████████| 54 kB 3.2 MB/s \n",
            "\u001b[?25hCollecting anyio==3.*\n",
            "  Downloading anyio-3.6.1-py3-none-any.whl (80 kB)\n",
            "\u001b[K     |████████████████████████████████| 80 kB 9.0 MB/s \n",
            "\u001b[?25hRequirement already satisfied: idna>=2.8 in /usr/local/lib/python3.7/dist-packages (from anyio==3.*->httpcore<0.16.0,>=0.15.0->httpx~=0.23.0->python-telegram-bot) (2.10)\n",
            "Requirement already satisfied: typing-extensions in /usr/local/lib/python3.7/dist-packages (from anyio==3.*->httpcore<0.16.0,>=0.15.0->httpx~=0.23.0->python-telegram-bot) (4.1.1)\n",
            "Collecting backports.zoneinfo\n",
            "  Downloading backports.zoneinfo-0.2.1-cp37-cp37m-manylinux1_x86_64.whl (70 kB)\n",
            "\u001b[K     |████████████████████████████████| 70 kB 8.4 MB/s \n",
            "\u001b[?25hCollecting pytz-deprecation-shim\n",
            "  Downloading pytz_deprecation_shim-0.1.0.post0-py2.py3-none-any.whl (15 kB)\n",
            "Collecting tzdata\n",
            "  Downloading tzdata-2022.1-py2.py3-none-any.whl (339 kB)\n",
            "\u001b[K     |████████████████████████████████| 339 kB 48.5 MB/s \n",
            "\u001b[?25hInstalling collected packages: tzdata, sniffio, backports.zoneinfo, rfc3986, pytz-deprecation-shim, h11, anyio, tzlocal, httpcore, tornado, httpx, cachetools, APScheduler, python-telegram-bot\n",
            "  Attempting uninstall: tzlocal\n",
            "    Found existing installation: tzlocal 1.5.1\n",
            "    Uninstalling tzlocal-1.5.1:\n",
            "      Successfully uninstalled tzlocal-1.5.1\n",
            "  Attempting uninstall: tornado\n",
            "    Found existing installation: tornado 5.1.1\n",
            "    Uninstalling tornado-5.1.1:\n",
            "      Successfully uninstalled tornado-5.1.1\n",
            "  Attempting uninstall: cachetools\n",
            "    Found existing installation: cachetools 4.2.4\n",
            "    Uninstalling cachetools-4.2.4:\n",
            "      Successfully uninstalled cachetools-4.2.4\n",
            "\u001b[31mERROR: pip's dependency resolver does not currently take into account all the packages that are installed. This behaviour is the source of the following dependency conflicts.\n",
            "google-colab 1.0.0 requires tornado~=5.1.0, but you have tornado 6.2 which is incompatible.\n",
            "google-auth 1.35.0 requires cachetools<5.0,>=2.0.0, but you have cachetools 5.2.0 which is incompatible.\u001b[0m\n",
            "Successfully installed APScheduler-3.9.1 anyio-3.6.1 backports.zoneinfo-0.2.1 cachetools-5.2.0 h11-0.12.0 httpcore-0.15.0 httpx-0.23.0 python-telegram-bot-20.0a2 pytz-deprecation-shim-0.1.0.post0 rfc3986-1.5.0 sniffio-1.2.0 tornado-6.2 tzdata-2022.1 tzlocal-4.2\n"
          ]
        },
        {
          "output_type": "display_data",
          "data": {
            "application/vnd.colab-display-data+json": {
              "pip_warning": {
                "packages": [
                  "tornado"
                ]
              }
            }
          },
          "metadata": {}
        }
      ]
    },
    {
      "cell_type": "code",
      "source": [
        "import os\n",
        "import random\n",
        "import json\n",
        "import urllib.request\n",
        "from sklearn.feature_extraction.text import CountVectorizer\n",
        "from sklearn.neural_network import MLPClassifier\n",
        "\n",
        "# Загружаем файл с диалогами для обучения модели\n",
        "url = \"https://drive.google.com/uc?export=view&id=1u4sNekGHaDzgkOVzCOAbyWpFTEMfu95Z\"\n",
        "filename = \"intents_dataset.json\"\n",
        "urllib.request.urlretrieve(url, filename)\n",
        "\n",
        "# Считываем файл в словарь\n",
        "with open(filename, 'r', encoding='UTF-8') as file:\n",
        "    data = json.load(file)\n",
        "\n",
        "# Создаем массивы фраз и интентов для обучения\n",
        "X = []\n",
        "y = []\n",
        "\n",
        "for name in data:\n",
        "    for phrase in data[name]['examples']:\n",
        "        X.append(phrase)\n",
        "        y.append(name)\n",
        "    for phrase in data[name]['responses']:\n",
        "        X.append(phrase)\n",
        "        y.append(name)\n",
        "\n",
        "# Векторизуем наши фразы X\n",
        "vectorizer = CountVectorizer()\n",
        "vectorizer.fit(X)\n",
        "X_vec = vectorizer.transform(X)\n",
        "\n",
        "# Создаем и обучаем модель\n",
        "model_mlp = MLPClassifier()\n",
        "model_mlp.fit(X_vec, y)\n",
        "\n",
        "MODEL = model_mlp\n",
        "\n",
        "def get_intent(text):\n",
        "    # сначала преобразуем текст в числа\n",
        "    text_vec = vectorizer.transform([text])\n",
        "    # берем элемент номер 0 - для того, чтобы избавиться от формата \"список\", который необходим для векторизации и машинного обучения\n",
        "    return model_mlp.predict(text_vec)[0] \n",
        "\n",
        "def get_response(intent):\n",
        "    return random.choice(data[intent]['responses'])\n",
        "\n",
        "def bot(text):\n",
        "    intent = get_intent(text)\n",
        "    answer = get_response(intent)\n",
        "    return answer"
      ],
      "metadata": {
        "colab": {
          "base_uri": "https://localhost:8080/"
        },
        "id": "gFM_7H_Eswo_",
        "outputId": "b347c296-9c29-4030-9652-4530fd1e6a7d"
      },
      "execution_count": null,
      "outputs": [
        {
          "output_type": "stream",
          "name": "stderr",
          "text": [
            "/usr/local/lib/python3.7/dist-packages/sklearn/neural_network/_multilayer_perceptron.py:696: ConvergenceWarning: Stochastic Optimizer: Maximum iterations (200) reached and the optimization hasn't converged yet.\n",
            "  ConvergenceWarning,\n"
          ]
        }
      ]
    },
    {
      "cell_type": "code",
      "source": [
        "import nest_asyncio\n",
        "nest_asyncio.apply()"
      ],
      "metadata": {
        "id": "CbSKz1-yvtSc"
      },
      "execution_count": null,
      "outputs": []
    },
    {
      "cell_type": "code",
      "source": [
        "try:\n",
        "    with open('secret_file.txt', 'r') as f:\n",
        "        TOKEN = f.read()\n",
        "except:\n",
        "    print('Это файл с токеном спикера. Вам нужно вставить свой токен в ячейку ниже')"
      ],
      "metadata": {
        "id": "uXwcP3QBtONx"
      },
      "execution_count": null,
      "outputs": []
    },
    {
      "cell_type": "code",
      "source": [
        "TOKEN = '<вставьте сюда свой токен>'"
      ],
      "metadata": {
        "id": "dLEd-e0OtnL9"
      },
      "execution_count": null,
      "outputs": []
    },
    {
      "cell_type": "code",
      "source": [
        "#  Update - информация полученная с сервера (новые сообщения, новые контакты)\n",
        "#  С сервера регулярно регулярно приходят Update'ы с новой информацией\n",
        "from telegram import Update \n",
        "from telegram.ext import ApplicationBuilder #  Инструмент чтобы создавать и настраивать приложение (телеграм бот)\n",
        "from telegram.ext import MessageHandler #  Handler (обработчик) - создать реакцию (функцию) на действие\n",
        "\n",
        "from  telegram.ext import filters"
      ],
      "metadata": {
        "id": "Z7EK9UGixz4f"
      },
      "execution_count": null,
      "outputs": []
    },
    {
      "cell_type": "code",
      "source": [
        "# Функция для MessageHandler'а, вызывать ее при каждом сообщении боту\n",
        "async def reply(update: Update, context) -> None:\n",
        "\n",
        "    user_text = update.message.text\n",
        "    reply = bot(user_text)\n",
        "    print('<', user_text)\n",
        "    print('>', reply)\n",
        "\n",
        "    await update.message.reply_text(reply)  # Ответ пользователю в чат ТГ\n",
        "\n",
        "# Создаем объект приложения - связываем его с токеном\n",
        "app = ApplicationBuilder().token(TOKEN).build()\n",
        "\n",
        "# Создаем обработчик текстовых сообщений\n",
        "handler = MessageHandler(filters.Text(), reply)\n",
        "\n",
        "# Добавляем обработчик в приложение\n",
        "app.add_handler(handler)\n",
        "\n",
        "# Запускаем приложение: бот крутится, пока крутится колесико выполнения слева ячейки)\n",
        "app.run_polling()"
      ],
      "metadata": {
        "id": "sKaH2jQnx59S",
        "colab": {
          "base_uri": "https://localhost:8080/",
          "height": 486
        },
        "outputId": "1e482829-e130-4fd9-d266-df9644d8e3e0"
      },
      "execution_count": null,
      "outputs": [
        {
          "output_type": "stream",
          "name": "stdout",
          "text": [
            "< Хай!\n",
            "> БОЛЬШЕ ЧЕРЕПОВ ДЛЯ ТРОНА!!!\n",
            "КРОВЬ ДЛЯ БОГА КРОВИ!!!\n",
            "КРОВЬ ДЛЯ БОГА КРОВИ!!!\n",
            "< Как дела?\n",
            "> Рад Вас видеть\n",
            "< Мне скучно\n",
            "> Хубулава Григорий Геннадьевич\n"
          ]
        },
        {
          "output_type": "error",
          "ename": "RuntimeError",
          "evalue": "ignored",
          "traceback": [
            "\u001b[0;31m---------------------------------------------------------------------------\u001b[0m",
            "\u001b[0;31mRuntimeError\u001b[0m                              Traceback (most recent call last)",
            "\u001b[0;32m<ipython-input-7-231f8dd83eee>\u001b[0m in \u001b[0;36m<module>\u001b[0;34m()\u001b[0m\n\u001b[1;32m     19\u001b[0m \u001b[0;34m\u001b[0m\u001b[0m\n\u001b[1;32m     20\u001b[0m \u001b[0;31m# Запускаем приложение: бот крутится, пока крутится колесико выполнения слева ячейки)\u001b[0m\u001b[0;34m\u001b[0m\u001b[0;34m\u001b[0m\u001b[0;34m\u001b[0m\u001b[0m\n\u001b[0;32m---> 21\u001b[0;31m \u001b[0mapp\u001b[0m\u001b[0;34m.\u001b[0m\u001b[0mrun_polling\u001b[0m\u001b[0;34m(\u001b[0m\u001b[0;34m)\u001b[0m\u001b[0;34m\u001b[0m\u001b[0;34m\u001b[0m\u001b[0m\n\u001b[0m",
            "\u001b[0;32m/usr/local/lib/python3.7/dist-packages/telegram/ext/_application.py\u001b[0m in \u001b[0;36mrun_polling\u001b[0;34m(self, poll_interval, timeout, bootstrap_retries, read_timeout, write_timeout, connect_timeout, pool_timeout, allowed_updates, drop_pending_updates, close_loop, stop_signals)\u001b[0m\n\u001b[1;32m    646\u001b[0m             ),\n\u001b[1;32m    647\u001b[0m             \u001b[0mclose_loop\u001b[0m\u001b[0;34m=\u001b[0m\u001b[0mclose_loop\u001b[0m\u001b[0;34m,\u001b[0m\u001b[0;34m\u001b[0m\u001b[0;34m\u001b[0m\u001b[0m\n\u001b[0;32m--> 648\u001b[0;31m             \u001b[0mstop_signals\u001b[0m\u001b[0;34m=\u001b[0m\u001b[0mstop_signals\u001b[0m\u001b[0;34m,\u001b[0m\u001b[0;34m\u001b[0m\u001b[0;34m\u001b[0m\u001b[0m\n\u001b[0m\u001b[1;32m    649\u001b[0m         )\n\u001b[1;32m    650\u001b[0m \u001b[0;34m\u001b[0m\u001b[0m\n",
            "\u001b[0;32m/usr/local/lib/python3.7/dist-packages/telegram/ext/_application.py\u001b[0m in \u001b[0;36m__run\u001b[0;34m(self, updater_coroutine, stop_signals, close_loop)\u001b[0m\n\u001b[1;32m    817\u001b[0m             \u001b[0;32mfinally\u001b[0m\u001b[0;34m:\u001b[0m\u001b[0;34m\u001b[0m\u001b[0;34m\u001b[0m\u001b[0m\n\u001b[1;32m    818\u001b[0m                 \u001b[0;32mif\u001b[0m \u001b[0mclose_loop\u001b[0m\u001b[0;34m:\u001b[0m\u001b[0;34m\u001b[0m\u001b[0;34m\u001b[0m\u001b[0m\n\u001b[0;32m--> 819\u001b[0;31m                     \u001b[0mloop\u001b[0m\u001b[0;34m.\u001b[0m\u001b[0mclose\u001b[0m\u001b[0;34m(\u001b[0m\u001b[0;34m)\u001b[0m\u001b[0;34m\u001b[0m\u001b[0;34m\u001b[0m\u001b[0m\n\u001b[0m\u001b[1;32m    820\u001b[0m \u001b[0;34m\u001b[0m\u001b[0m\n\u001b[1;32m    821\u001b[0m     \u001b[0;32mdef\u001b[0m \u001b[0mcreate_task\u001b[0m\u001b[0;34m(\u001b[0m\u001b[0mself\u001b[0m\u001b[0;34m,\u001b[0m \u001b[0mcoroutine\u001b[0m\u001b[0;34m:\u001b[0m \u001b[0mCoroutine\u001b[0m\u001b[0;34m,\u001b[0m \u001b[0mupdate\u001b[0m\u001b[0;34m:\u001b[0m \u001b[0mobject\u001b[0m \u001b[0;34m=\u001b[0m \u001b[0;32mNone\u001b[0m\u001b[0;34m)\u001b[0m \u001b[0;34m->\u001b[0m \u001b[0masyncio\u001b[0m\u001b[0;34m.\u001b[0m\u001b[0mTask\u001b[0m\u001b[0;34m:\u001b[0m\u001b[0;34m\u001b[0m\u001b[0;34m\u001b[0m\u001b[0m\n",
            "\u001b[0;32m/usr/lib/python3.7/asyncio/unix_events.py\u001b[0m in \u001b[0;36mclose\u001b[0;34m(self)\u001b[0m\n\u001b[1;32m     53\u001b[0m \u001b[0;34m\u001b[0m\u001b[0m\n\u001b[1;32m     54\u001b[0m     \u001b[0;32mdef\u001b[0m \u001b[0mclose\u001b[0m\u001b[0;34m(\u001b[0m\u001b[0mself\u001b[0m\u001b[0;34m)\u001b[0m\u001b[0;34m:\u001b[0m\u001b[0;34m\u001b[0m\u001b[0;34m\u001b[0m\u001b[0m\n\u001b[0;32m---> 55\u001b[0;31m         \u001b[0msuper\u001b[0m\u001b[0;34m(\u001b[0m\u001b[0;34m)\u001b[0m\u001b[0;34m.\u001b[0m\u001b[0mclose\u001b[0m\u001b[0;34m(\u001b[0m\u001b[0;34m)\u001b[0m\u001b[0;34m\u001b[0m\u001b[0;34m\u001b[0m\u001b[0m\n\u001b[0m\u001b[1;32m     56\u001b[0m         \u001b[0;32mif\u001b[0m \u001b[0;32mnot\u001b[0m \u001b[0msys\u001b[0m\u001b[0;34m.\u001b[0m\u001b[0mis_finalizing\u001b[0m\u001b[0;34m(\u001b[0m\u001b[0;34m)\u001b[0m\u001b[0;34m:\u001b[0m\u001b[0;34m\u001b[0m\u001b[0;34m\u001b[0m\u001b[0m\n\u001b[1;32m     57\u001b[0m             \u001b[0;32mfor\u001b[0m \u001b[0msig\u001b[0m \u001b[0;32min\u001b[0m \u001b[0mlist\u001b[0m\u001b[0;34m(\u001b[0m\u001b[0mself\u001b[0m\u001b[0;34m.\u001b[0m\u001b[0m_signal_handlers\u001b[0m\u001b[0;34m)\u001b[0m\u001b[0;34m:\u001b[0m\u001b[0;34m\u001b[0m\u001b[0;34m\u001b[0m\u001b[0m\n",
            "\u001b[0;32m/usr/lib/python3.7/asyncio/selector_events.py\u001b[0m in \u001b[0;36mclose\u001b[0;34m(self)\u001b[0m\n\u001b[1;32m     86\u001b[0m     \u001b[0;32mdef\u001b[0m \u001b[0mclose\u001b[0m\u001b[0;34m(\u001b[0m\u001b[0mself\u001b[0m\u001b[0;34m)\u001b[0m\u001b[0;34m:\u001b[0m\u001b[0;34m\u001b[0m\u001b[0;34m\u001b[0m\u001b[0m\n\u001b[1;32m     87\u001b[0m         \u001b[0;32mif\u001b[0m \u001b[0mself\u001b[0m\u001b[0;34m.\u001b[0m\u001b[0mis_running\u001b[0m\u001b[0;34m(\u001b[0m\u001b[0;34m)\u001b[0m\u001b[0;34m:\u001b[0m\u001b[0;34m\u001b[0m\u001b[0;34m\u001b[0m\u001b[0m\n\u001b[0;32m---> 88\u001b[0;31m             \u001b[0;32mraise\u001b[0m \u001b[0mRuntimeError\u001b[0m\u001b[0;34m(\u001b[0m\u001b[0;34m\"Cannot close a running event loop\"\u001b[0m\u001b[0;34m)\u001b[0m\u001b[0;34m\u001b[0m\u001b[0;34m\u001b[0m\u001b[0m\n\u001b[0m\u001b[1;32m     89\u001b[0m         \u001b[0;32mif\u001b[0m \u001b[0mself\u001b[0m\u001b[0;34m.\u001b[0m\u001b[0mis_closed\u001b[0m\u001b[0;34m(\u001b[0m\u001b[0;34m)\u001b[0m\u001b[0;34m:\u001b[0m\u001b[0;34m\u001b[0m\u001b[0;34m\u001b[0m\u001b[0m\n\u001b[1;32m     90\u001b[0m             \u001b[0;32mreturn\u001b[0m\u001b[0;34m\u001b[0m\u001b[0;34m\u001b[0m\u001b[0m\n",
            "\u001b[0;31mRuntimeError\u001b[0m: Cannot close a running event loop"
          ]
        }
      ]
    },
    {
      "cell_type": "code",
      "source": [
        "get_intent('Мне скучно')"
      ],
      "metadata": {
        "colab": {
          "base_uri": "https://localhost:8080/",
          "height": 35
        },
        "id": "VkbaylY73h-c",
        "outputId": "e1654d1d-134c-4c2f-86be-7d6532d8581c"
      },
      "execution_count": null,
      "outputs": [
        {
          "output_type": "execute_result",
          "data": {
            "text/plain": [
              "'byflood'"
            ],
            "application/vnd.google.colaboratory.intrinsic+json": {
              "type": "string"
            }
          },
          "metadata": {},
          "execution_count": 8
        }
      ]
    },
    {
      "cell_type": "code",
      "source": [
        "data['byflood']"
      ],
      "metadata": {
        "id": "G7bbQ4D4twvX",
        "colab": {
          "base_uri": "https://localhost:8080/"
        },
        "outputId": "fc14113a-d5c7-48ae-8c8d-5d5745698c74"
      },
      "execution_count": null,
      "outputs": [
        {
          "output_type": "execute_result",
          "data": {
            "text/plain": [
              "{'examples': ['Подскажи, как переводится: «I want you»?',\n",
              "  'Ты любишь деньги?',\n",
              "  'Чего тебе в жизни не хватает?',\n",
              "  'Ты из какой сказки?',\n",
              "  'На учебу ходила?',\n",
              "  'Тебе нравится получать подарки, или приятней дарить их?',\n",
              "  'Разве можем мы друг без друга?',\n",
              "  'Хочу выпить',\n",
              "  'Что делаешь',\n",
              "  'Как тебя зовут',\n",
              "  'Какой у тебя был самый яркий момент в жизни?',\n",
              "  'У тебя какой любимый цветок?',\n",
              "  'Ты уверенный в себе человек?',\n",
              "  'Ты бы сняла свой секс за деньги?',\n",
              "  'Что тебя больше всего рассмешило за прошедшую неделю/ месяц?',\n",
              "  'Занимаешься спортом? Каким? Как часто?',\n",
              "  'Тебя никто не обижает?',\n",
              "  'Любишь мечтать? О чем мечтаешь?',\n",
              "  'Поболтаем',\n",
              "  'Ты веришь в любовь с первого взгляда?',\n",
              "  'Ты обещаешь не врать друг другу никогда?',\n",
              "  'Мне скучно',\n",
              "  'Скажи что-нибудь',\n",
              "  'Сегодня гадал на ромашке (любит, не любит). И отгадай что выпало?',\n",
              "  'Ты где и с кем новый год встречать будешь?',\n",
              "  'Давай познакомимся',\n",
              "  'Что выберешь: деньги или любовь?',\n",
              "  'Ты слышала что ради тебя я бросил бывшую?',\n",
              "  'Сколько тебе лет',\n",
              "  'Ты вроде есть в книге рекордов Гиннеса, как самая красивая девушка. Это правда?',\n",
              "  'А я сексуальный?',\n",
              "  'Научить тебя делать шашлыки?',\n",
              "  'Ты на каком курсе учишься?',\n",
              "  'А ты когда-нибудь ходила по городу всю ночь?',\n",
              "  'Жалеешь о чем-нибудь в своей жизни?',\n",
              "  'Слышала меня сегодня по радио Романтика? Я говорил о тебе.',\n",
              "  'Сериалы, которые ты любишь смотреть?',\n",
              "  'У тебя есть эротическое белье?',\n",
              "  'Почему все хотят, чтобы я хотел того, чего хотят они, и никто не хочет хотеть того, чего хочу я?',\n",
              "  'Хочешь поскакать на лошадке?',\n",
              "  'Хочешь выучить какой-нибудь иностранный язык?',\n",
              "  'Дорогая в каком стиле будем наш дом?',\n",
              "  'Ты хоть раз выигрывала в карты на раздевание?',\n",
              "  'Как оценишь по шкале от 1 до 10 свою неадекватность?',\n",
              "  'Хочешь научиться танцевать танго (фламенко, ча ча ча)?',\n",
              "  'Какой звук тебе нравится? Звук горящего камина в доме, или может звук природы в лесу?',\n",
              "  'У тебя было когда-нибудь желание уйти в монастырь?',\n",
              "  'Ты когда-нибудь мучилась от любви?',\n",
              "  'Веришь в настоящую любовь? Почему?',\n",
              "  'Отгадай чем ты меня заинтересовала?',\n",
              "  'Ты владеешь языком по-французски?',\n",
              "  'Нравится танцевать? Почему? Какие танцы нравятся?',\n",
              "  'Как относишься к нудисткому пляжу?',\n",
              "  'Во время секса… о чем ты думаешь?',\n",
              "  'Если кто-то будет писать о тебе книгу, то какое название у нее будет?',\n",
              "  'Оружие в руках хоть раз держала?',\n",
              "  'Как думаешь романтично будет заняться любовью на берегу моря?',\n",
              "  'Хотела бы ты прославиться?',\n",
              "  'Если бы тебе подарили бесплатный билет на самолёт, куда бы ты полетела?',\n",
              "  'Сколько языков ты знаешь? Какие хотела бы еще выучить? Почему?',\n",
              "  'Как ты назовешь своих детей?',\n",
              "  'Кока-кола или Пепси?',\n",
              "  'У тебя винда не косячит? А то я бы мог тебе ее переустановить, за бесплатно.',\n",
              "  'Какое твое любимое время года?',\n",
              "  'Ты наверное ходишь в солярий?',\n",
              "  'Какое обычно у тебя утром настроение?',\n",
              "  'Как ты называешь свои интимные места?',\n",
              "  'А ты мальчик или девочка',\n",
              "  'Что ты подаришь мне на 23 февраля?',\n",
              "  'Ты любишь загарать? Топлес?',\n",
              "  'Наверное тоже ждешь принца на белом коне?',\n",
              "  'Ты творческий человек? Почему так считаешь? Если да, то, что играет в роли твоей музы?',\n",
              "  'Ты смотришь телевизор?',\n",
              "  'Хочешь я скажу на всех языках мира какая ты красивая?',\n",
              "  'Ты вегетарианка?',\n",
              "  'Умеешь рисовать?',\n",
              "  'Твое любимое женское и мужское имя?',\n",
              "  'Где так загорела, как шоколадка?',\n",
              "  'Какой фильм ты можешь смотреть снова и снова?',\n",
              "  'Матом часто ругаешься?',\n",
              "  'И каково же чувствовать себя самой прекрасной девушкой в городе?',\n",
              "  'Ты хочешь остаться такой молодой и красивой навсегда?',\n",
              "  'О чём ты мечтаешь ночью?',\n",
              "  'Где находится нофелет?',\n",
              "  'Как ты относишься к измене?',\n",
              "  'Какую песню ты бы выбрала для описания своей жизни?',\n",
              "  'Фитнесом занимаешься?',\n",
              "  'Стакан наполовину пуст или наполовину полон?',\n",
              "  'Любишь маленьких детей?',\n",
              "  'Ты простишь меня если я тебе случайно изменю?',\n",
              "  'Давай сделаем это сейчас! Готова?',\n",
              "  'Как лето проводишь (будешь проводить)?',\n",
              "  'Насколько ты считаешь себя собранной? В квартире твоей беспорядок?',\n",
              "  'Не тебя ли я видел на обложке Playboy?',\n",
              "  'Я собираюсь снимать фильм про любовь. Хочешь сняться?',\n",
              "  'Какое твое любимое блюдо?',\n",
              "  'Что ты выбираешь: Спонтанность или стабильность?',\n",
              "  'Есть сестра или брат?',\n",
              "  'Если бы тебе осталось жить один час, чтобы ты сделала?',\n",
              "  'Ты когда-нибудь прыгала с парашютом?',\n",
              "  'Если я позову на помощь, придешь?',\n",
              "  'Почему заниматься сексом можно с 16 лет, а курить с 18?',\n",
              "  'Если бы я был съедобный, что бы ты съела у меня?',\n",
              "  'Веришь в знаки зодиака? Какой твой?'],\n",
              " 'responses': ['В итоге здесь не будет ничего',\n",
              "  'И в знойном мареве слепящем',\n",
              "  'Но я не хочу ходить вокруг да около',\n",
              "  'и звезд игривые веснушки',\n",
              "  'наполнит ветер ночь интриг',\n",
              "  'Поэтому вместо косвенных намёков знай всё о моих намерениях',\n",
              "  'Смелы наши стрелы',\n",
              "  'Я старше Пушкина...',\n",
              "  'Как жизнь и смерть на кончике ножа',\n",
              "  'Но ты ударишься в бега',\n",
              "  'А ветра злые небылицы',\n",
              "  'И улица свивается в клубок',\n",
              "  'вы смотрите устрицей из раковин вещей',\n",
              "  'Хубулава Григорий Геннадьевич',\n",
              "  'В немом Раю глухого переулка',\n",
              "  'плюну в лицо вам',\n",
              "  'Любить тебя',\n",
              "  '27 ноября - День оценщика',\n",
              "  'Через час отсюда в чистый переулок',\n",
              "  'После дождя',\n",
              "  'Зуд тревожил скулы',\n",
              "  'Скоро уснёшь ты',\n",
              "  'В каких морях?',\n",
              "  'А горы одеваются в леса',\n",
              "  'трель соловья уловит слух',\n",
              "  'я — бесценных слов транжир и мот',\n",
              "  'Полосато платье',\n",
              "  'Не ведая о том, и что, как будет…',\n",
              "  'Но схлынет пена дней и снова',\n",
              "  'Что мы о времени всё да о времени',\n",
              "  'Я согласна под венец!',\n",
              "  'Ввысь впуская корни',\n",
              "  'кривляться перед вами не захочется — и вот']}"
            ]
          },
          "metadata": {},
          "execution_count": 9
        }
      ]
    },
    {
      "cell_type": "code",
      "source": [
        "# Как добавить интенты в словарь?\n",
        "\n",
        "data.update(INTENTS)"
      ],
      "metadata": {
        "id": "e959Qscg3oGx"
      },
      "execution_count": null,
      "outputs": []
    },
    {
      "cell_type": "code",
      "source": [
        "len(data)"
      ],
      "metadata": {
        "colab": {
          "base_uri": "https://localhost:8080/"
        },
        "id": "C8pbg-265S-4",
        "outputId": "e328930b-0e6c-4660-cdd7-ab6ac31969a5"
      },
      "execution_count": null,
      "outputs": [
        {
          "output_type": "execute_result",
          "data": {
            "text/plain": [
              "442"
            ]
          },
          "metadata": {},
          "execution_count": 15
        }
      ]
    },
    {
      "cell_type": "code",
      "source": [
        "with open('intents_new.json', 'w', encoding='UTF-8') as f:\n",
        "    json.dump(data, f, indent=4, ensure_ascii=False)"
      ],
      "metadata": {
        "id": "I-O8CT0R5Bqy"
      },
      "execution_count": null,
      "outputs": []
    },
    {
      "cell_type": "code",
      "source": [
        "import pickle"
      ],
      "metadata": {
        "id": "IVGeDhVL5tTh"
      },
      "execution_count": null,
      "outputs": []
    },
    {
      "cell_type": "code",
      "source": [
        "with open('model.pkl', 'wb') as f:\n",
        "    pickle.dump(model_mlp, f)"
      ],
      "metadata": {
        "id": "8Vq1kJRW6Zx4"
      },
      "execution_count": null,
      "outputs": []
    },
    {
      "cell_type": "code",
      "source": [
        "with open('model.pkl', 'rb') as f:\n",
        "    model_saved = pickle.load(f)"
      ],
      "metadata": {
        "id": "ubOXdOKR6mTv"
      },
      "execution_count": null,
      "outputs": []
    },
    {
      "cell_type": "code",
      "source": [
        "type(model_saved)"
      ],
      "metadata": {
        "colab": {
          "base_uri": "https://localhost:8080/"
        },
        "id": "77szl3KM62LP",
        "outputId": "4231589e-a00e-4b6b-b9d3-cd1cf9d71125"
      },
      "execution_count": null,
      "outputs": [
        {
          "output_type": "execute_result",
          "data": {
            "text/plain": [
              "sklearn.neural_network._multilayer_perceptron.MLPClassifier"
            ]
          },
          "metadata": {},
          "execution_count": 26
        }
      ]
    },
    {
      "cell_type": "code",
      "source": [
        ""
      ],
      "metadata": {
        "id": "3KOZNkhN63X_"
      },
      "execution_count": null,
      "outputs": []
    }
  ]
}